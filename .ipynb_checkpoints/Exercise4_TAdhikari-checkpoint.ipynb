{
 "cells": [
  {
   "cell_type": "markdown",
   "metadata": {},
   "source": [
    "### Exercise 4.2: Sentiment Analysis\n",
    "\n",
    "#### DSC 550\n",
    "\n",
    "Taniya Adhikari 1/10/2021"
   ]
  },
  {
   "cell_type": "code",
   "execution_count": 329,
   "metadata": {},
   "outputs": [
    {
     "name": "stderr",
     "output_type": "stream",
     "text": [
      "[nltk_data] Downloading package stopwords to\n",
      "[nltk_data]     C:\\Users\\taniy\\AppData\\Roaming\\nltk_data...\n",
      "[nltk_data]   Package stopwords is already up-to-date!\n"
     ]
    }
   ],
   "source": [
    "import pandas as pd\n",
    "import numpy as np\n",
    "import re\n",
    "from re import sub\n",
    "import multiprocessing\n",
    "from unidecode import unidecode\n",
    "\n",
    "from gensim.models.phrases import Phrases, Phraser\n",
    "from gensim.models import Word2Vec\n",
    "from gensim.test.utils import get_tmpfile\n",
    "from gensim.models import KeyedVectors\n",
    "\n",
    "\n",
    "from time import time \n",
    "from collections import defaultdict\n",
    "\n",
    "import logging  # Setting up the loggings to monitor gensim\n",
    "logging.basicConfig(format=\"%(levelname)s - %(asctime)s: %(message)s\", datefmt= '%H:%M:%S', level=logging.INFO)\n",
    "import textblob\n",
    "\n",
    "nltk.download('stopwords')\n",
    "from nltk.corpus import stopwords\n",
    "from nltk.stem import PorterStemmer\n",
    "from nltk.tokenize import word_tokenize\n",
    "from textblob import TextBlob\n",
    "from sklearn.cluster import KMeans"
   ]
  },
  {
   "cell_type": "markdown",
   "metadata": {},
   "source": [
    "1. Load the data file DailyComments.csv from the Week 4 Data Files into a data frame."
   ]
  },
  {
   "cell_type": "code",
   "execution_count": 330,
   "metadata": {},
   "outputs": [
    {
     "data": {
      "text/plain": [
       "Day of Week    7\n",
       "comments       7\n",
       "dtype: int64"
      ]
     },
     "execution_count": 330,
     "metadata": {},
     "output_type": "execute_result"
    }
   ],
   "source": [
    "df = pd.read_csv(\"DailyComments.csv\")\n",
    "df.count()"
   ]
  },
  {
   "cell_type": "code",
   "execution_count": 331,
   "metadata": {},
   "outputs": [
    {
     "data": {
      "text/html": [
       "<div>\n",
       "<style scoped>\n",
       "    .dataframe tbody tr th:only-of-type {\n",
       "        vertical-align: middle;\n",
       "    }\n",
       "\n",
       "    .dataframe tbody tr th {\n",
       "        vertical-align: top;\n",
       "    }\n",
       "\n",
       "    .dataframe thead th {\n",
       "        text-align: right;\n",
       "    }\n",
       "</style>\n",
       "<table border=\"1\" class=\"dataframe\">\n",
       "  <thead>\n",
       "    <tr style=\"text-align: right;\">\n",
       "      <th></th>\n",
       "      <th>Day of Week</th>\n",
       "      <th>comments</th>\n",
       "    </tr>\n",
       "  </thead>\n",
       "  <tbody>\n",
       "    <tr>\n",
       "      <th>0</th>\n",
       "      <td>Monday</td>\n",
       "      <td>Hello, how are you?</td>\n",
       "    </tr>\n",
       "    <tr>\n",
       "      <th>1</th>\n",
       "      <td>Tuesday</td>\n",
       "      <td>Today is a good day!</td>\n",
       "    </tr>\n",
       "    <tr>\n",
       "      <th>2</th>\n",
       "      <td>Wednesday</td>\n",
       "      <td>It's my birthday so it's a really special day!</td>\n",
       "    </tr>\n",
       "    <tr>\n",
       "      <th>3</th>\n",
       "      <td>Thursday</td>\n",
       "      <td>Today is neither a good day or a bad day!</td>\n",
       "    </tr>\n",
       "    <tr>\n",
       "      <th>4</th>\n",
       "      <td>Friday</td>\n",
       "      <td>I'm having a bad day.</td>\n",
       "    </tr>\n",
       "    <tr>\n",
       "      <th>5</th>\n",
       "      <td>Saturday</td>\n",
       "      <td>There' s nothing special happening today.</td>\n",
       "    </tr>\n",
       "    <tr>\n",
       "      <th>6</th>\n",
       "      <td>Sunday</td>\n",
       "      <td>Today is a SUPER good day!</td>\n",
       "    </tr>\n",
       "  </tbody>\n",
       "</table>\n",
       "</div>"
      ],
      "text/plain": [
       "  Day of Week                                        comments\n",
       "0      Monday                             Hello, how are you?\n",
       "1     Tuesday                            Today is a good day!\n",
       "2   Wednesday  It's my birthday so it's a really special day!\n",
       "3    Thursday       Today is neither a good day or a bad day!\n",
       "4      Friday                           I'm having a bad day.\n",
       "5    Saturday       There' s nothing special happening today.\n",
       "6      Sunday                      Today is a SUPER good day!"
      ]
     },
     "execution_count": 331,
     "metadata": {},
     "output_type": "execute_result"
    }
   ],
   "source": [
    "df.head(7)"
   ]
  },
  {
   "cell_type": "markdown",
   "metadata": {},
   "source": [
    "Text Pre-processing before modeling for sentiment analysis"
   ]
  },
  {
   "cell_type": "code",
   "execution_count": 332,
   "metadata": {},
   "outputs": [
    {
     "data": {
      "text/html": [
       "<div>\n",
       "<style scoped>\n",
       "    .dataframe tbody tr th:only-of-type {\n",
       "        vertical-align: middle;\n",
       "    }\n",
       "\n",
       "    .dataframe tbody tr th {\n",
       "        vertical-align: top;\n",
       "    }\n",
       "\n",
       "    .dataframe thead th {\n",
       "        text-align: right;\n",
       "    }\n",
       "</style>\n",
       "<table border=\"1\" class=\"dataframe\">\n",
       "  <thead>\n",
       "    <tr style=\"text-align: right;\">\n",
       "      <th></th>\n",
       "      <th>Day of Week</th>\n",
       "      <th>comments</th>\n",
       "      <th>stopwords</th>\n",
       "    </tr>\n",
       "  </thead>\n",
       "  <tbody>\n",
       "    <tr>\n",
       "      <th>0</th>\n",
       "      <td>Monday</td>\n",
       "      <td>hello</td>\n",
       "      <td>0</td>\n",
       "    </tr>\n",
       "    <tr>\n",
       "      <th>1</th>\n",
       "      <td>Tuesday</td>\n",
       "      <td>today good day</td>\n",
       "      <td>0</td>\n",
       "    </tr>\n",
       "    <tr>\n",
       "      <th>2</th>\n",
       "      <td>Wednesday</td>\n",
       "      <td>birthday realli special day</td>\n",
       "      <td>0</td>\n",
       "    </tr>\n",
       "    <tr>\n",
       "      <th>3</th>\n",
       "      <td>Thursday</td>\n",
       "      <td>today neither good day bad day</td>\n",
       "      <td>0</td>\n",
       "    </tr>\n",
       "    <tr>\n",
       "      <th>4</th>\n",
       "      <td>Friday</td>\n",
       "      <td>im bad day</td>\n",
       "      <td>0</td>\n",
       "    </tr>\n",
       "    <tr>\n",
       "      <th>5</th>\n",
       "      <td>Saturday</td>\n",
       "      <td>noth special happen today</td>\n",
       "      <td>0</td>\n",
       "    </tr>\n",
       "    <tr>\n",
       "      <th>6</th>\n",
       "      <td>Sunday</td>\n",
       "      <td>today super good day</td>\n",
       "      <td>0</td>\n",
       "    </tr>\n",
       "  </tbody>\n",
       "</table>\n",
       "</div>"
      ],
      "text/plain": [
       "  Day of Week                        comments  stopwords\n",
       "0      Monday                           hello          0\n",
       "1     Tuesday                  today good day          0\n",
       "2   Wednesday     birthday realli special day          0\n",
       "3    Thursday  today neither good day bad day          0\n",
       "4      Friday                      im bad day          0\n",
       "5    Saturday       noth special happen today          0\n",
       "6      Sunday            today super good day          0"
      ]
     },
     "execution_count": 332,
     "metadata": {},
     "output_type": "execute_result"
    }
   ],
   "source": [
    "def pre_processing(df):\n",
    "    # converting all text to lowercase\n",
    "    df[\"comments\"] = df[\"comments\"].str.lower()\n",
    "    \n",
    "    # removing punctuation using string.punctuations and join()\n",
    "    df[\"comments\"] = df[\"comments\"].apply(lambda x: \"\".join([i for i in x if i not in string.punctuation]))\n",
    "    \n",
    "    # remove stop words\n",
    "    stop = stopwords.words('english')\n",
    "\n",
    "    df['stopwords'] = df[\"comments\"].apply(lambda x: len([i for i in x.split() if i in stop]))\n",
    "    df[\"comments\"]= df[\"comments\"].apply(lambda x: \" \".join(i for i in x.split() if i not in stop))\n",
    "    df['stopwords'] = df['comments'].apply(lambda x: len([i for i in x.split() if i in stop]))\n",
    "    \n",
    "    # stemming\n",
    "    porter = PorterStemmer()\n",
    "    df[\"comments\"] = df[\"comments\"].apply(lambda x: \" \".join([porter.stem(word) for word in x.split()]))\n",
    "    return df\n",
    "\n",
    "df2 = pre_processing(df)\n",
    "df2"
   ]
  },
  {
   "cell_type": "code",
   "execution_count": 333,
   "metadata": {},
   "outputs": [],
   "source": [
    "# converting string into list of words for each comment\n",
    "def text_to_list(text):\n",
    "    text = text.split()\n",
    "    return text"
   ]
  },
  {
   "cell_type": "code",
   "execution_count": 334,
   "metadata": {},
   "outputs": [
    {
     "data": {
      "text/html": [
       "<div>\n",
       "<style scoped>\n",
       "    .dataframe tbody tr th:only-of-type {\n",
       "        vertical-align: middle;\n",
       "    }\n",
       "\n",
       "    .dataframe tbody tr th {\n",
       "        vertical-align: top;\n",
       "    }\n",
       "\n",
       "    .dataframe thead th {\n",
       "        text-align: right;\n",
       "    }\n",
       "</style>\n",
       "<table border=\"1\" class=\"dataframe\">\n",
       "  <thead>\n",
       "    <tr style=\"text-align: right;\">\n",
       "      <th></th>\n",
       "      <th>Day of Week</th>\n",
       "      <th>comments</th>\n",
       "      <th>stopwords</th>\n",
       "    </tr>\n",
       "  </thead>\n",
       "  <tbody>\n",
       "    <tr>\n",
       "      <th>0</th>\n",
       "      <td>Monday</td>\n",
       "      <td>[hello]</td>\n",
       "      <td>0</td>\n",
       "    </tr>\n",
       "    <tr>\n",
       "      <th>1</th>\n",
       "      <td>Tuesday</td>\n",
       "      <td>[today, good, day]</td>\n",
       "      <td>0</td>\n",
       "    </tr>\n",
       "    <tr>\n",
       "      <th>2</th>\n",
       "      <td>Wednesday</td>\n",
       "      <td>[birthday, realli, special, day]</td>\n",
       "      <td>0</td>\n",
       "    </tr>\n",
       "    <tr>\n",
       "      <th>3</th>\n",
       "      <td>Thursday</td>\n",
       "      <td>[today, neither, good, day, bad, day]</td>\n",
       "      <td>0</td>\n",
       "    </tr>\n",
       "    <tr>\n",
       "      <th>4</th>\n",
       "      <td>Friday</td>\n",
       "      <td>[im, bad, day]</td>\n",
       "      <td>0</td>\n",
       "    </tr>\n",
       "  </tbody>\n",
       "</table>\n",
       "</div>"
      ],
      "text/plain": [
       "  Day of Week                               comments  stopwords\n",
       "0      Monday                                [hello]          0\n",
       "1     Tuesday                     [today, good, day]          0\n",
       "2   Wednesday       [birthday, realli, special, day]          0\n",
       "3    Thursday  [today, neither, good, day, bad, day]          0\n",
       "4      Friday                         [im, bad, day]          0"
      ]
     },
     "execution_count": 334,
     "metadata": {},
     "output_type": "execute_result"
    }
   ],
   "source": [
    "clean_df = df2.copy()\n",
    "clean_df.comments = clean_df.comments.apply(lambda x: text_to_list(x))\n",
    "clean_df.head()"
   ]
  },
  {
   "cell_type": "code",
   "execution_count": 335,
   "metadata": {},
   "outputs": [
    {
     "name": "stderr",
     "output_type": "stream",
     "text": [
      "INFO - 03:34:14: collecting all words and their counts\n",
      "INFO - 03:34:14: PROGRESS: at sentence #0, processed 0 words and 0 word types\n",
      "INFO - 03:34:14: collected 28 word types from a corpus of 25 words (unigram + bigrams) and 7 sentences\n",
      "INFO - 03:34:14: using 28 counts as vocab in Phrases<0 vocab, min_count=1, threshold=10.0, max_vocab_size=40000000>\n",
      "INFO - 03:34:14: source_vocab length 28\n",
      "INFO - 03:34:14: Phraser built with 0 phrasegrams\n"
     ]
    },
    {
     "data": {
      "text/plain": [
       "['today', 'super', 'good', 'day']"
      ]
     },
     "execution_count": 335,
     "metadata": {},
     "output_type": "execute_result"
    }
   ],
   "source": [
    "#extraction of phrases and bigram model\n",
    "sent = [row for row in clean_df.comments]\n",
    "phrases = Phrases(sent, min_count=1, progress_per=7)\n",
    "bigram = Phraser(phrases)\n",
    "sentences = bigram[sent]\n",
    "sentences[6]"
   ]
  },
  {
   "cell_type": "code",
   "execution_count": 336,
   "metadata": {},
   "outputs": [
    {
     "name": "stderr",
     "output_type": "stream",
     "text": [
      "WARNING - 03:34:14: consider setting layer size to a multiple of 4 for greater performance\n",
      "INFO - 03:34:14: collecting all words and their counts\n",
      "INFO - 03:34:14: PROGRESS: at sentence #0, processed 0 words, keeping 0 word types\n",
      "INFO - 03:34:14: collected 13 word types from a corpus of 25 raw words and 7 sentences\n",
      "INFO - 03:34:14: Loading a fresh vocabulary\n",
      "INFO - 03:34:14: effective_min_count=1 retains 13 unique words (100% of original 13, drops 0)\n",
      "INFO - 03:34:14: effective_min_count=1 leaves 25 word corpus (100% of original 25, drops 0)\n",
      "INFO - 03:34:14: deleting the raw counts dictionary of 13 items\n",
      "INFO - 03:34:14: sample=0.001 downsamples 13 most-common words\n",
      "INFO - 03:34:14: downsampling leaves estimated 3 word corpus (12.1% of prior 25)\n",
      "INFO - 03:34:14: estimated required memory for 13 words and 2 dimensions: 6708 bytes\n",
      "INFO - 03:34:14: resetting layer weights\n"
     ]
    }
   ],
   "source": [
    "w2v_model = Word2Vec(min_count=1, size=2)\n",
    "\n",
    "# building vocab\n",
    "w2v_model.build_vocab(sentences, progress_per=7)"
   ]
  },
  {
   "cell_type": "code",
   "execution_count": 337,
   "metadata": {},
   "outputs": [
    {
     "name": "stderr",
     "output_type": "stream",
     "text": [
      "INFO - 03:34:15: training model with 3 workers on 13 vocabulary and 2 features, using sg=0 hs=0 sample=0.001 negative=5 window=5\n",
      "INFO - 03:34:15: worker thread finished; awaiting finish of 2 more threads\n",
      "INFO - 03:34:15: worker thread finished; awaiting finish of 1 more threads\n",
      "INFO - 03:34:15: worker thread finished; awaiting finish of 0 more threads\n",
      "INFO - 03:34:15: EPOCH - 1 : training on 25 raw words (1 effective words) took 0.0s, 396 effective words/s\n",
      "INFO - 03:34:15: worker thread finished; awaiting finish of 2 more threads\n",
      "INFO - 03:34:15: worker thread finished; awaiting finish of 1 more threads\n",
      "INFO - 03:34:15: worker thread finished; awaiting finish of 0 more threads\n",
      "INFO - 03:34:15: EPOCH - 2 : training on 25 raw words (1 effective words) took 0.0s, 382 effective words/s\n",
      "INFO - 03:34:15: worker thread finished; awaiting finish of 2 more threads\n",
      "INFO - 03:34:15: worker thread finished; awaiting finish of 1 more threads\n",
      "INFO - 03:34:15: worker thread finished; awaiting finish of 0 more threads\n",
      "INFO - 03:34:15: EPOCH - 3 : training on 25 raw words (3 effective words) took 0.0s, 868 effective words/s\n",
      "INFO - 03:34:15: worker thread finished; awaiting finish of 2 more threads\n",
      "INFO - 03:34:15: worker thread finished; awaiting finish of 1 more threads\n",
      "INFO - 03:34:15: worker thread finished; awaiting finish of 0 more threads\n",
      "INFO - 03:34:15: EPOCH - 4 : training on 25 raw words (1 effective words) took 0.0s, 313 effective words/s\n",
      "INFO - 03:34:15: training on a 100 raw words (6 effective words) took 0.1s, 49 effective words/s\n",
      "WARNING - 03:34:15: under 10 jobs per worker: consider setting a smaller `batch_words' for smoother alpha decay\n",
      "INFO - 03:34:15: precomputing L2-norms of word weight vectors\n"
     ]
    }
   ],
   "source": [
    "# training the model\n",
    "w2v_model.train(sentences, total_examples=w2v_model.corpus_count, epochs=4, report_delay=1)\n",
    "w2v_model.init_sims(replace=True)"
   ]
  },
  {
   "cell_type": "code",
   "execution_count": 338,
   "metadata": {},
   "outputs": [
    {
     "name": "stdout",
     "output_type": "stream",
     "text": [
      "Word2Vec(vocab=13, size=2, alpha=0.025)\n"
     ]
    }
   ],
   "source": [
    "print(w2v_model)"
   ]
  },
  {
   "cell_type": "code",
   "execution_count": 339,
   "metadata": {},
   "outputs": [
    {
     "name": "stderr",
     "output_type": "stream",
     "text": [
      "INFO - 03:34:16: saving Word2Vec object under word2vec.model, separately None\n",
      "INFO - 03:34:16: not storing attribute vectors_norm\n",
      "INFO - 03:34:16: not storing attribute cum_table\n",
      "INFO - 03:34:16: saved word2vec.model\n"
     ]
    }
   ],
   "source": [
    "w2v_model.save(\"word2vec.model\")"
   ]
  },
  {
   "cell_type": "code",
   "execution_count": 340,
   "metadata": {},
   "outputs": [
    {
     "name": "stderr",
     "output_type": "stream",
     "text": [
      "INFO - 03:34:16: loading Word2Vec object from word2vec.model\n",
      "INFO - 03:34:16: loading wv recursively from word2vec.model.wv.* with mmap=None\n",
      "INFO - 03:34:16: setting ignored attribute vectors_norm to None\n",
      "INFO - 03:34:16: loading vocabulary recursively from word2vec.model.vocabulary.* with mmap=None\n",
      "INFO - 03:34:16: loading trainables recursively from word2vec.model.trainables.* with mmap=None\n",
      "INFO - 03:34:16: setting ignored attribute cum_table to None\n",
      "INFO - 03:34:16: loaded word2vec.model\n"
     ]
    }
   ],
   "source": [
    "word_vectors = Word2Vec.load(\"word2vec.model\").wv"
   ]
  },
  {
   "cell_type": "code",
   "execution_count": 341,
   "metadata": {},
   "outputs": [],
   "source": [
    "# k-means clustering to create sentiment dictionary for each word\n",
    "model = KMeans(n_clusters=2, max_iter=100).fit(X=word_vectors.vectors.astype(\"double\"))"
   ]
  },
  {
   "cell_type": "code",
   "execution_count": 342,
   "metadata": {},
   "outputs": [
    {
     "data": {
      "text/plain": [
       "array([[ 0.61350253,  0.39413982],\n",
       "       [-0.78832501, -0.0736144 ]])"
      ]
     },
     "execution_count": 342,
     "metadata": {},
     "output_type": "execute_result"
    }
   ],
   "source": [
    "model.cluster_centers_"
   ]
  },
  {
   "cell_type": "code",
   "execution_count": 343,
   "metadata": {},
   "outputs": [],
   "source": [
    "positive = model.cluster_centers_[1]\n",
    "negative = model.cluster_centers_[0]"
   ]
  },
  {
   "cell_type": "code",
   "execution_count": 344,
   "metadata": {},
   "outputs": [
    {
     "name": "stderr",
     "output_type": "stream",
     "text": [
      "INFO - 03:34:18: precomputing L2-norms of word weight vectors\n"
     ]
    },
    {
     "data": {
      "text/plain": [
       "[('good', 0.9780603647232056),\n",
       " ('hello', 0.9035085439682007),\n",
       " ('super', 0.9016662836074829),\n",
       " ('realli', 0.8192667365074158),\n",
       " ('noth', 0.8170955181121826),\n",
       " ('birthday', 0.7565217614173889),\n",
       " ('day', 0.5820415019989014),\n",
       " ('special', 0.5758768320083618),\n",
       " ('neither', -0.3850495517253876),\n",
       " ('today', -0.45182546973228455)]"
      ]
     },
     "execution_count": 344,
     "metadata": {},
     "output_type": "execute_result"
    }
   ],
   "source": [
    "word_vectors.similar_by_vector(model.cluster_centers_[1], restrict_vocab=None)"
   ]
  },
  {
   "cell_type": "code",
   "execution_count": 345,
   "metadata": {},
   "outputs": [],
   "source": [
    "words = pd.DataFrame(word_vectors.vocab.keys())\n",
    "words.columns = ['words']\n",
    "words['vectors'] = words.words.apply(lambda x: word_vectors[f'{x}'])\n",
    "words['cluster'] = words.vectors.apply(lambda x: model.predict([np.array(x)]))\n",
    "words.cluster = words.cluster.apply(lambda x: x[0])"
   ]
  },
  {
   "cell_type": "code",
   "execution_count": 346,
   "metadata": {},
   "outputs": [
    {
     "data": {
      "text/html": [
       "<div>\n",
       "<style scoped>\n",
       "    .dataframe tbody tr th:only-of-type {\n",
       "        vertical-align: middle;\n",
       "    }\n",
       "\n",
       "    .dataframe tbody tr th {\n",
       "        vertical-align: top;\n",
       "    }\n",
       "\n",
       "    .dataframe thead th {\n",
       "        text-align: right;\n",
       "    }\n",
       "</style>\n",
       "<table border=\"1\" class=\"dataframe\">\n",
       "  <thead>\n",
       "    <tr style=\"text-align: right;\">\n",
       "      <th></th>\n",
       "      <th>words</th>\n",
       "      <th>vectors</th>\n",
       "      <th>cluster</th>\n",
       "      <th>cluster_value</th>\n",
       "      <th>closeness_score</th>\n",
       "      <th>sentiment_coeff</th>\n",
       "    </tr>\n",
       "  </thead>\n",
       "  <tbody>\n",
       "    <tr>\n",
       "      <th>0</th>\n",
       "      <td>hello</td>\n",
       "      <td>[-0.9394416, 0.34270886]</td>\n",
       "      <td>1</td>\n",
       "      <td>1</td>\n",
       "      <td>2.257841</td>\n",
       "      <td>2.257841</td>\n",
       "    </tr>\n",
       "    <tr>\n",
       "      <th>1</th>\n",
       "      <td>today</td>\n",
       "      <td>[0.532813, -0.846233]</td>\n",
       "      <td>0</td>\n",
       "      <td>-1</td>\n",
       "      <td>0.804509</td>\n",
       "      <td>-0.804509</td>\n",
       "    </tr>\n",
       "    <tr>\n",
       "      <th>2</th>\n",
       "      <td>good</td>\n",
       "      <td>[-0.95445466, -0.29835606]</td>\n",
       "      <td>1</td>\n",
       "      <td>1</td>\n",
       "      <td>3.578101</td>\n",
       "      <td>3.578101</td>\n",
       "    </tr>\n",
       "    <tr>\n",
       "      <th>3</th>\n",
       "      <td>day</td>\n",
       "      <td>[-0.5039158, -0.86375284]</td>\n",
       "      <td>1</td>\n",
       "      <td>1</td>\n",
       "      <td>1.190808</td>\n",
       "      <td>1.190808</td>\n",
       "    </tr>\n",
       "    <tr>\n",
       "      <th>4</th>\n",
       "      <td>birthday</td>\n",
       "      <td>[-0.6924411, -0.7214743]</td>\n",
       "      <td>1</td>\n",
       "      <td>1</td>\n",
       "      <td>1.526911</td>\n",
       "      <td>1.526911</td>\n",
       "    </tr>\n",
       "    <tr>\n",
       "      <th>5</th>\n",
       "      <td>realli</td>\n",
       "      <td>[-0.86903167, 0.4947565]</td>\n",
       "      <td>1</td>\n",
       "      <td>1</td>\n",
       "      <td>1.741941</td>\n",
       "      <td>1.741941</td>\n",
       "    </tr>\n",
       "    <tr>\n",
       "      <th>6</th>\n",
       "      <td>special</td>\n",
       "      <td>[-0.64939374, 0.76045233]</td>\n",
       "      <td>1</td>\n",
       "      <td>1</td>\n",
       "      <td>1.182650</td>\n",
       "      <td>1.182650</td>\n",
       "    </tr>\n",
       "    <tr>\n",
       "      <th>7</th>\n",
       "      <td>neither</td>\n",
       "      <td>[0.29757416, 0.9546987]</td>\n",
       "      <td>0</td>\n",
       "      <td>-1</td>\n",
       "      <td>1.554105</td>\n",
       "      <td>-1.554105</td>\n",
       "    </tr>\n",
       "    <tr>\n",
       "      <th>8</th>\n",
       "      <td>bad</td>\n",
       "      <td>[0.63992137, 0.7684404]</td>\n",
       "      <td>0</td>\n",
       "      <td>-1</td>\n",
       "      <td>2.665019</td>\n",
       "      <td>-2.665019</td>\n",
       "    </tr>\n",
       "    <tr>\n",
       "      <th>9</th>\n",
       "      <td>im</td>\n",
       "      <td>[0.6566255, 0.7542168]</td>\n",
       "      <td>0</td>\n",
       "      <td>-1</td>\n",
       "      <td>2.757480</td>\n",
       "      <td>-2.757480</td>\n",
       "    </tr>\n",
       "    <tr>\n",
       "      <th>10</th>\n",
       "      <td>noth</td>\n",
       "      <td>[-0.75995505, -0.64997566]</td>\n",
       "      <td>1</td>\n",
       "      <td>1</td>\n",
       "      <td>1.732925</td>\n",
       "      <td>1.732925</td>\n",
       "    </tr>\n",
       "    <tr>\n",
       "      <th>11</th>\n",
       "      <td>happen</td>\n",
       "      <td>[0.9405786, 0.3395762]</td>\n",
       "      <td>0</td>\n",
       "      <td>-1</td>\n",
       "      <td>3.015718</td>\n",
       "      <td>-3.015718</td>\n",
       "    </tr>\n",
       "    <tr>\n",
       "      <th>12</th>\n",
       "      <td>super</td>\n",
       "      <td>[-0.93796647, 0.34672597]</td>\n",
       "      <td>1</td>\n",
       "      <td>1</td>\n",
       "      <td>2.241237</td>\n",
       "      <td>2.241237</td>\n",
       "    </tr>\n",
       "  </tbody>\n",
       "</table>\n",
       "</div>"
      ],
      "text/plain": [
       "       words                     vectors  cluster  cluster_value  \\\n",
       "0      hello    [-0.9394416, 0.34270886]        1              1   \n",
       "1      today       [0.532813, -0.846233]        0             -1   \n",
       "2       good  [-0.95445466, -0.29835606]        1              1   \n",
       "3        day   [-0.5039158, -0.86375284]        1              1   \n",
       "4   birthday    [-0.6924411, -0.7214743]        1              1   \n",
       "5     realli    [-0.86903167, 0.4947565]        1              1   \n",
       "6    special   [-0.64939374, 0.76045233]        1              1   \n",
       "7    neither     [0.29757416, 0.9546987]        0             -1   \n",
       "8        bad     [0.63992137, 0.7684404]        0             -1   \n",
       "9         im      [0.6566255, 0.7542168]        0             -1   \n",
       "10      noth  [-0.75995505, -0.64997566]        1              1   \n",
       "11    happen      [0.9405786, 0.3395762]        0             -1   \n",
       "12     super   [-0.93796647, 0.34672597]        1              1   \n",
       "\n",
       "    closeness_score  sentiment_coeff  \n",
       "0          2.257841         2.257841  \n",
       "1          0.804509        -0.804509  \n",
       "2          3.578101         3.578101  \n",
       "3          1.190808         1.190808  \n",
       "4          1.526911         1.526911  \n",
       "5          1.741941         1.741941  \n",
       "6          1.182650         1.182650  \n",
       "7          1.554105        -1.554105  \n",
       "8          2.665019        -2.665019  \n",
       "9          2.757480        -2.757480  \n",
       "10         1.732925         1.732925  \n",
       "11         3.015718        -3.015718  \n",
       "12         2.241237         2.241237  "
      ]
     },
     "execution_count": 346,
     "metadata": {},
     "output_type": "execute_result"
    }
   ],
   "source": [
    "words['cluster_value'] = [1 if i==1 else -1 for i in words.cluster]\n",
    "words['closeness_score'] = words.apply(lambda x: 1/(model.transform([x.vectors]).min()), axis=1)\n",
    "words['sentiment_coeff'] = words.closeness_score * words.cluster_value\n",
    "\n",
    "words"
   ]
  },
  {
   "cell_type": "code",
   "execution_count": 389,
   "metadata": {},
   "outputs": [
    {
     "data": {
      "text/html": [
       "<div>\n",
       "<style scoped>\n",
       "    .dataframe tbody tr th:only-of-type {\n",
       "        vertical-align: middle;\n",
       "    }\n",
       "\n",
       "    .dataframe tbody tr th {\n",
       "        vertical-align: top;\n",
       "    }\n",
       "\n",
       "    .dataframe thead th {\n",
       "        text-align: right;\n",
       "    }\n",
       "</style>\n",
       "<table border=\"1\" class=\"dataframe\">\n",
       "  <thead>\n",
       "    <tr style=\"text-align: right;\">\n",
       "      <th></th>\n",
       "      <th>Day of Week</th>\n",
       "      <th>comments</th>\n",
       "      <th>stopwords</th>\n",
       "      <th>sentiment</th>\n",
       "    </tr>\n",
       "  </thead>\n",
       "  <tbody>\n",
       "    <tr>\n",
       "      <th>0</th>\n",
       "      <td>Monday</td>\n",
       "      <td>hello</td>\n",
       "      <td>0</td>\n",
       "      <td>Positive</td>\n",
       "    </tr>\n",
       "    <tr>\n",
       "      <th>1</th>\n",
       "      <td>Tuesday</td>\n",
       "      <td>today good day</td>\n",
       "      <td>0</td>\n",
       "      <td>Positive</td>\n",
       "    </tr>\n",
       "    <tr>\n",
       "      <th>2</th>\n",
       "      <td>Wednesday</td>\n",
       "      <td>birthday realli special day</td>\n",
       "      <td>0</td>\n",
       "      <td>Positive</td>\n",
       "    </tr>\n",
       "    <tr>\n",
       "      <th>3</th>\n",
       "      <td>Thursday</td>\n",
       "      <td>today neither good day bad day</td>\n",
       "      <td>0</td>\n",
       "      <td>Negative</td>\n",
       "    </tr>\n",
       "    <tr>\n",
       "      <th>4</th>\n",
       "      <td>Friday</td>\n",
       "      <td>im bad day</td>\n",
       "      <td>0</td>\n",
       "      <td>Negative</td>\n",
       "    </tr>\n",
       "    <tr>\n",
       "      <th>5</th>\n",
       "      <td>Saturday</td>\n",
       "      <td>noth special happen today</td>\n",
       "      <td>0</td>\n",
       "      <td>Negative</td>\n",
       "    </tr>\n",
       "    <tr>\n",
       "      <th>6</th>\n",
       "      <td>Sunday</td>\n",
       "      <td>today super good day</td>\n",
       "      <td>0</td>\n",
       "      <td>Positive</td>\n",
       "    </tr>\n",
       "  </tbody>\n",
       "</table>\n",
       "</div>"
      ],
      "text/plain": [
       "  Day of Week                        comments  stopwords sentiment\n",
       "0      Monday                           hello          0  Positive\n",
       "1     Tuesday                  today good day          0  Positive\n",
       "2   Wednesday     birthday realli special day          0  Positive\n",
       "3    Thursday  today neither good day bad day          0  Negative\n",
       "4      Friday                      im bad day          0  Negative\n",
       "5    Saturday       noth special happen today          0  Negative\n",
       "6      Sunday            today super good day          0  Positive"
      ]
     },
     "execution_count": 389,
     "metadata": {},
     "output_type": "execute_result"
    }
   ],
   "source": [
    "cluster_count = {}\n",
    "sentiment = []\n",
    "for i, r in df2.iterrows():\n",
    "    comment = r['comments']\n",
    "    wordlist = comment.split()\n",
    "    result = sentiment_analyzer(wordlist)\n",
    "    sentiment.append(result)\n",
    "df2['sentiment'] = sentiment    \n",
    "\n",
    "df2"
   ]
  },
  {
   "cell_type": "code",
   "execution_count": 388,
   "metadata": {},
   "outputs": [],
   "source": [
    "def sentiment_analyzer(wordlist):\n",
    "    cluster_count = {}\n",
    "    for w in wordlist:\n",
    "        x = cluster_freq(w, words)\n",
    "        if x in cluster_count:\n",
    "            cluster_count[x] = cluster_count[x] + 1\n",
    "        else:\n",
    "            cluster_count[x] = 1\n",
    "                  \n",
    "    if '-1' in cluster_count.keys() and '1' in cluster_count.keys():\n",
    "        pos = cluster_count.get('1')\n",
    "        neg = cluster_count.get('-1')\n",
    "        if pos > neg:\n",
    "            sentiment = \"Positive\"\n",
    "        else:\n",
    "            sentiment = \"Negative\"\n",
    "\n",
    "    elif '-1' not in cluster_count.keys() and '1' in cluster_count.keys():\n",
    "        sentiment = \"Positive\"\n",
    "    elif '1' not in cluster_count.keys() and '-1' in cluster_count.keys():\n",
    "        sentiment = \"Negative\"\n",
    "    else:\n",
    "        None\n",
    "    return sentiment"
   ]
  },
  {
   "cell_type": "code",
   "execution_count": 387,
   "metadata": {},
   "outputs": [],
   "source": [
    "def cluster_freq(word, df):\n",
    "    x = ''\n",
    "    for i, r in df.iterrows():\n",
    "        if r['words'] == word:\n",
    "            x = str(r['cluster_value'])\n",
    "        else:\n",
    "            None\n",
    "    return x\n",
    "        "
   ]
  },
  {
   "cell_type": "code",
   "execution_count": 393,
   "metadata": {},
   "outputs": [],
   "source": [
    "df2['pol_sub']= df2['comments'].apply(sentiment_func)"
   ]
  },
  {
   "cell_type": "code",
   "execution_count": 394,
   "metadata": {},
   "outputs": [],
   "source": [
    "def sentiment_func(comments):\n",
    "    try:\n",
    "        return TextBlob(comments).sentiment.polarity\n",
    "    except:\n",
    "        return None"
   ]
  },
  {
   "cell_type": "code",
   "execution_count": 396,
   "metadata": {},
   "outputs": [
    {
     "data": {
      "text/html": [
       "<div>\n",
       "<style scoped>\n",
       "    .dataframe tbody tr th:only-of-type {\n",
       "        vertical-align: middle;\n",
       "    }\n",
       "\n",
       "    .dataframe tbody tr th {\n",
       "        vertical-align: top;\n",
       "    }\n",
       "\n",
       "    .dataframe thead th {\n",
       "        text-align: right;\n",
       "    }\n",
       "</style>\n",
       "<table border=\"1\" class=\"dataframe\">\n",
       "  <thead>\n",
       "    <tr style=\"text-align: right;\">\n",
       "      <th></th>\n",
       "      <th>Day of Week</th>\n",
       "      <th>comments</th>\n",
       "      <th>stopwords</th>\n",
       "      <th>sentiment</th>\n",
       "      <th>pol_sub</th>\n",
       "    </tr>\n",
       "  </thead>\n",
       "  <tbody>\n",
       "    <tr>\n",
       "      <th>0</th>\n",
       "      <td>Monday</td>\n",
       "      <td>hello</td>\n",
       "      <td>0</td>\n",
       "      <td>Positive</td>\n",
       "      <td>0.000000e+00</td>\n",
       "    </tr>\n",
       "    <tr>\n",
       "      <th>1</th>\n",
       "      <td>Tuesday</td>\n",
       "      <td>today good day</td>\n",
       "      <td>0</td>\n",
       "      <td>Positive</td>\n",
       "      <td>7.000000e-01</td>\n",
       "    </tr>\n",
       "    <tr>\n",
       "      <th>2</th>\n",
       "      <td>Wednesday</td>\n",
       "      <td>birthday realli special day</td>\n",
       "      <td>0</td>\n",
       "      <td>Positive</td>\n",
       "      <td>3.571429e-01</td>\n",
       "    </tr>\n",
       "    <tr>\n",
       "      <th>3</th>\n",
       "      <td>Thursday</td>\n",
       "      <td>today neither good day bad day</td>\n",
       "      <td>0</td>\n",
       "      <td>Negative</td>\n",
       "      <td>5.551115e-17</td>\n",
       "    </tr>\n",
       "    <tr>\n",
       "      <th>4</th>\n",
       "      <td>Friday</td>\n",
       "      <td>im bad day</td>\n",
       "      <td>0</td>\n",
       "      <td>Negative</td>\n",
       "      <td>-7.000000e-01</td>\n",
       "    </tr>\n",
       "    <tr>\n",
       "      <th>5</th>\n",
       "      <td>Saturday</td>\n",
       "      <td>noth special happen today</td>\n",
       "      <td>0</td>\n",
       "      <td>Negative</td>\n",
       "      <td>3.571429e-01</td>\n",
       "    </tr>\n",
       "    <tr>\n",
       "      <th>6</th>\n",
       "      <td>Sunday</td>\n",
       "      <td>today super good day</td>\n",
       "      <td>0</td>\n",
       "      <td>Positive</td>\n",
       "      <td>5.166667e-01</td>\n",
       "    </tr>\n",
       "  </tbody>\n",
       "</table>\n",
       "</div>"
      ],
      "text/plain": [
       "  Day of Week                        comments  stopwords sentiment  \\\n",
       "0      Monday                           hello          0  Positive   \n",
       "1     Tuesday                  today good day          0  Positive   \n",
       "2   Wednesday     birthday realli special day          0  Positive   \n",
       "3    Thursday  today neither good day bad day          0  Negative   \n",
       "4      Friday                      im bad day          0  Negative   \n",
       "5    Saturday       noth special happen today          0  Negative   \n",
       "6      Sunday            today super good day          0  Positive   \n",
       "\n",
       "        pol_sub  \n",
       "0  0.000000e+00  \n",
       "1  7.000000e-01  \n",
       "2  3.571429e-01  \n",
       "3  5.551115e-17  \n",
       "4 -7.000000e-01  \n",
       "5  3.571429e-01  \n",
       "6  5.166667e-01  "
      ]
     },
     "execution_count": 396,
     "metadata": {},
     "output_type": "execute_result"
    }
   ],
   "source": [
    "df2"
   ]
  },
  {
   "cell_type": "code",
   "execution_count": null,
   "metadata": {},
   "outputs": [],
   "source": []
  }
 ],
 "metadata": {
  "kernelspec": {
   "display_name": "Python 3",
   "language": "python",
   "name": "python3"
  },
  "language_info": {
   "codemirror_mode": {
    "name": "ipython",
    "version": 3
   },
   "file_extension": ".py",
   "mimetype": "text/x-python",
   "name": "python",
   "nbconvert_exporter": "python",
   "pygments_lexer": "ipython3",
   "version": "3.7.9"
  }
 },
 "nbformat": 4,
 "nbformat_minor": 4
}
