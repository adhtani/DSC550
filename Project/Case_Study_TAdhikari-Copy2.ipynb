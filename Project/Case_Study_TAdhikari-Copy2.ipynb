{
 "cells": [
  {
   "cell_type": "markdown",
   "metadata": {},
   "source": [
    "## Exercise 7.3: Original Case Study\n",
    "### DSC 550\n",
    "\n",
    "#### Taniya Adhikari 02/07/2021"
   ]
  },
  {
   "cell_type": "code",
   "execution_count": 1,
   "metadata": {},
   "outputs": [],
   "source": [
    "import pandas as pd\n",
    "import numpy as np\n",
    "import string\n",
    "import re\n",
    "import matplotlib.pyplot as plt\n",
    "from collections import Counter\n",
    "import yellowbrick\n",
    "import seaborn as sns\n",
    "\n",
    "\n",
    "import warnings; warnings.simplefilter('ignore')"
   ]
  },
  {
   "cell_type": "markdown",
   "metadata": {},
   "source": [
    "## Case Study:  Analyze data for Home loan approval prediction"
   ]
  },
  {
   "cell_type": "markdown",
   "metadata": {},
   "source": [
    "<a id='Part_1_Analysis_-_Graph_Analysis'></a>\n",
    "### Part 1 Analysis - Graph Analysis"
   ]
  },
  {
   "cell_type": "markdown",
   "metadata": {},
   "source": [
    "### Introduction\n",
    "\n",
    "Dream Housing Finance company is a growing company that provides Home loans in all over US Areas. They first check the eligibility of the customers before customers apply for the application. The company is interested in automating the pre-approval eligibility process by evaluating the customer's data provided by them on the application. This is important, as this provides the customer their likelihood of getting approved before they apply for the loan. The data is provided by the company to determine the eligibility of the customer so they can target these customers. There are many factors that can determine the eligibility of the customer, such as education level, Income, Credit History, etc.  \n",
    "For this project, I will attempt to analyze what factors are significant in approving the loan, to predict who will get approved for the loan.  \n",
    "**Problem Statement:** Predict which customer is eligible for loan based on their background information.\n"
   ]
  },
  {
   "cell_type": "markdown",
   "metadata": {},
   "source": [
    "### Data\n",
    "\n",
    "1. Data Source: [Loan Eligibility Data](https://www.kaggle.com/vikasukani/loan-eligible-dataset?select=loan-train.csv)  from kaggle.com.  \n",
    "2. Data variables in the file are:\n",
    "Key Name\tDescription      \n",
    "     \n",
    "Gender - Male/ Female   \n",
    "Married - Applicant married (Y/N)    \n",
    "Dependents - Number of dependents\n",
    "Education - Applicant Education (Graduate/ Under Graduate)    \n",
    "Self_Employed - Self-employed (Y/N)   \n",
    "ApplicantIncome - Applicant income   \n",
    "CoapplicantIncome - Coapplicant income  \n",
    "LoanAmount - Loan amount in thousands  \n",
    "Loan_Amount_Term - \tTerm of a loan in months   \n",
    "Credit_History\t- credit history meets guidelines   \n",
    "Property_Area - Urban/ Semi-Urban/ Rural   \n",
    "Loan_Status\t- Loan approved (Y/N) - Target Variable"
   ]
  },
  {
   "cell_type": "markdown",
   "metadata": {},
   "source": [
    "#### 1.\tLoad the data from the “train.csv” file into a DataFrame."
   ]
  },
  {
   "cell_type": "code",
   "execution_count": 2,
   "metadata": {},
   "outputs": [],
   "source": [
    "# Loading the data\n",
    "sample_dt = pd.read_csv(\"loan-train.csv\")\n",
    "test_dt = pd.read_csv(\"loan-test.csv\")"
   ]
  },
  {
   "cell_type": "markdown",
   "metadata": {},
   "source": [
    "#### 2.\tDisplay the dimensions of the file (so you’ll have a good idea the amount of data you are working with.data"
   ]
  },
  {
   "cell_type": "code",
   "execution_count": 3,
   "metadata": {},
   "outputs": [
    {
     "name": "stdout",
     "output_type": "stream",
     "text": [
      "The dimension of the sample table is:  (614, 13)\n"
     ]
    }
   ],
   "source": [
    "print(\"The dimension of the sample table is: \", sample_dt.shape)"
   ]
  },
  {
   "cell_type": "code",
   "execution_count": 4,
   "metadata": {},
   "outputs": [
    {
     "name": "stdout",
     "output_type": "stream",
     "text": [
      "The dimension of the test table is:  (367, 12)\n"
     ]
    }
   ],
   "source": [
    "print(\"The dimension of the test table is: \", test_dt.shape)"
   ]
  },
  {
   "cell_type": "markdown",
   "metadata": {},
   "source": [
    "Sample dataset has 614 records and 13 variables.  \n",
    "Testing dataset has 367 records and 12 variables"
   ]
  },
  {
   "cell_type": "markdown",
   "metadata": {},
   "source": [
    "#### 3.\tDisplay the first 5 rows of data so you can see the column headings and the type of data for each column."
   ]
  },
  {
   "cell_type": "code",
   "execution_count": 5,
   "metadata": {
    "scrolled": true
   },
   "outputs": [
    {
     "data": {
      "text/html": [
       "<div>\n",
       "<style scoped>\n",
       "    .dataframe tbody tr th:only-of-type {\n",
       "        vertical-align: middle;\n",
       "    }\n",
       "\n",
       "    .dataframe tbody tr th {\n",
       "        vertical-align: top;\n",
       "    }\n",
       "\n",
       "    .dataframe thead th {\n",
       "        text-align: right;\n",
       "    }\n",
       "</style>\n",
       "<table border=\"1\" class=\"dataframe\">\n",
       "  <thead>\n",
       "    <tr style=\"text-align: right;\">\n",
       "      <th></th>\n",
       "      <th>Loan_ID</th>\n",
       "      <th>Gender</th>\n",
       "      <th>Married</th>\n",
       "      <th>Dependents</th>\n",
       "      <th>Education</th>\n",
       "      <th>Self_Employed</th>\n",
       "      <th>ApplicantIncome</th>\n",
       "      <th>CoapplicantIncome</th>\n",
       "      <th>LoanAmount</th>\n",
       "      <th>Loan_Amount_Term</th>\n",
       "      <th>Credit_History</th>\n",
       "      <th>Property_Area</th>\n",
       "      <th>Loan_Status</th>\n",
       "    </tr>\n",
       "  </thead>\n",
       "  <tbody>\n",
       "    <tr>\n",
       "      <th>0</th>\n",
       "      <td>LP001002</td>\n",
       "      <td>Male</td>\n",
       "      <td>No</td>\n",
       "      <td>0</td>\n",
       "      <td>Graduate</td>\n",
       "      <td>No</td>\n",
       "      <td>5849</td>\n",
       "      <td>0.0</td>\n",
       "      <td>NaN</td>\n",
       "      <td>360.0</td>\n",
       "      <td>1.0</td>\n",
       "      <td>Urban</td>\n",
       "      <td>Y</td>\n",
       "    </tr>\n",
       "    <tr>\n",
       "      <th>1</th>\n",
       "      <td>LP001003</td>\n",
       "      <td>Male</td>\n",
       "      <td>Yes</td>\n",
       "      <td>1</td>\n",
       "      <td>Graduate</td>\n",
       "      <td>No</td>\n",
       "      <td>4583</td>\n",
       "      <td>1508.0</td>\n",
       "      <td>128.0</td>\n",
       "      <td>360.0</td>\n",
       "      <td>1.0</td>\n",
       "      <td>Rural</td>\n",
       "      <td>N</td>\n",
       "    </tr>\n",
       "    <tr>\n",
       "      <th>2</th>\n",
       "      <td>LP001005</td>\n",
       "      <td>Male</td>\n",
       "      <td>Yes</td>\n",
       "      <td>0</td>\n",
       "      <td>Graduate</td>\n",
       "      <td>Yes</td>\n",
       "      <td>3000</td>\n",
       "      <td>0.0</td>\n",
       "      <td>66.0</td>\n",
       "      <td>360.0</td>\n",
       "      <td>1.0</td>\n",
       "      <td>Urban</td>\n",
       "      <td>Y</td>\n",
       "    </tr>\n",
       "    <tr>\n",
       "      <th>3</th>\n",
       "      <td>LP001006</td>\n",
       "      <td>Male</td>\n",
       "      <td>Yes</td>\n",
       "      <td>0</td>\n",
       "      <td>Not Graduate</td>\n",
       "      <td>No</td>\n",
       "      <td>2583</td>\n",
       "      <td>2358.0</td>\n",
       "      <td>120.0</td>\n",
       "      <td>360.0</td>\n",
       "      <td>1.0</td>\n",
       "      <td>Urban</td>\n",
       "      <td>Y</td>\n",
       "    </tr>\n",
       "    <tr>\n",
       "      <th>4</th>\n",
       "      <td>LP001008</td>\n",
       "      <td>Male</td>\n",
       "      <td>No</td>\n",
       "      <td>0</td>\n",
       "      <td>Graduate</td>\n",
       "      <td>No</td>\n",
       "      <td>6000</td>\n",
       "      <td>0.0</td>\n",
       "      <td>141.0</td>\n",
       "      <td>360.0</td>\n",
       "      <td>1.0</td>\n",
       "      <td>Urban</td>\n",
       "      <td>Y</td>\n",
       "    </tr>\n",
       "  </tbody>\n",
       "</table>\n",
       "</div>"
      ],
      "text/plain": [
       "    Loan_ID Gender Married Dependents     Education Self_Employed  \\\n",
       "0  LP001002   Male      No          0      Graduate            No   \n",
       "1  LP001003   Male     Yes          1      Graduate            No   \n",
       "2  LP001005   Male     Yes          0      Graduate           Yes   \n",
       "3  LP001006   Male     Yes          0  Not Graduate            No   \n",
       "4  LP001008   Male      No          0      Graduate            No   \n",
       "\n",
       "   ApplicantIncome  CoapplicantIncome  LoanAmount  Loan_Amount_Term  \\\n",
       "0             5849                0.0         NaN             360.0   \n",
       "1             4583             1508.0       128.0             360.0   \n",
       "2             3000                0.0        66.0             360.0   \n",
       "3             2583             2358.0       120.0             360.0   \n",
       "4             6000                0.0       141.0             360.0   \n",
       "\n",
       "   Credit_History Property_Area Loan_Status  \n",
       "0             1.0         Urban           Y  \n",
       "1             1.0         Rural           N  \n",
       "2             1.0         Urban           Y  \n",
       "3             1.0         Urban           Y  \n",
       "4             1.0         Urban           Y  "
      ]
     },
     "execution_count": 5,
     "metadata": {},
     "output_type": "execute_result"
    }
   ],
   "source": [
    "# Display the data\n",
    "sample_dt.head(5)"
   ]
  },
  {
   "cell_type": "markdown",
   "metadata": {},
   "source": [
    "Loan_Status variable is Boolean variable with Y or N, Missing values have NaN. Loan_Status will be the target variable and all other columns will be features."
   ]
  },
  {
   "cell_type": "code",
   "execution_count": 6,
   "metadata": {},
   "outputs": [],
   "source": [
    "# Checking data type\n",
    "def Datatype(df):\n",
    "    # shape and data types of the data\n",
    "    print(\"There are {} rows and {} columns\".format(df.shape[0], df.shape[1]))\n",
    "    print(df.dtypes)\n",
    "\n",
    "    # select numeric columns\n",
    "    df_numeric = df.select_dtypes(include=[np.number])\n",
    "    numeric_cols = df_numeric.columns.values\n",
    "    print(numeric_cols)\n",
    "\n",
    "    # select non numeric columns\n",
    "    df_non_numeric = df.select_dtypes(exclude=[np.number])\n",
    "    non_numeric_cols = df_non_numeric.columns.values\n",
    "    print(non_numeric_cols)\n"
   ]
  },
  {
   "cell_type": "code",
   "execution_count": 7,
   "metadata": {},
   "outputs": [
    {
     "name": "stdout",
     "output_type": "stream",
     "text": [
      "There are 614 rows and 13 columns\n",
      "Loan_ID               object\n",
      "Gender                object\n",
      "Married               object\n",
      "Dependents            object\n",
      "Education             object\n",
      "Self_Employed         object\n",
      "ApplicantIncome        int64\n",
      "CoapplicantIncome    float64\n",
      "LoanAmount           float64\n",
      "Loan_Amount_Term     float64\n",
      "Credit_History       float64\n",
      "Property_Area         object\n",
      "Loan_Status           object\n",
      "dtype: object\n",
      "['ApplicantIncome' 'CoapplicantIncome' 'LoanAmount' 'Loan_Amount_Term'\n",
      " 'Credit_History']\n",
      "['Loan_ID' 'Gender' 'Married' 'Dependents' 'Education' 'Self_Employed'\n",
      " 'Property_Area' 'Loan_Status']\n"
     ]
    }
   ],
   "source": [
    "Datatype(sample_dt)"
   ]
  },
  {
   "cell_type": "markdown",
   "metadata": {},
   "source": [
    "There are 5 numerical variables and 8 categorical variables."
   ]
  },
  {
   "cell_type": "code",
   "execution_count": 8,
   "metadata": {},
   "outputs": [
    {
     "name": "stdout",
     "output_type": "stream",
     "text": [
      "Loan ID duplicated: False\n"
     ]
    }
   ],
   "source": [
    "# Check for duplicates in sample\n",
    "print(\"Loan ID duplicated: {}\".format(any(sample_dt.Loan_ID.duplicated())))"
   ]
  },
  {
   "cell_type": "code",
   "execution_count": 9,
   "metadata": {},
   "outputs": [
    {
     "name": "stdout",
     "output_type": "stream",
     "text": [
      "Loan ID duplicated: False\n"
     ]
    }
   ],
   "source": [
    "# Check for duplicates in test set\n",
    "print(\"Loan ID duplicated: {}\".format(any(test_dt.Loan_ID.duplicated())))"
   ]
  },
  {
   "cell_type": "markdown",
   "metadata": {},
   "source": [
    "Renaming variables to make it easier to remember."
   ]
  },
  {
   "cell_type": "code",
   "execution_count": 10,
   "metadata": {},
   "outputs": [],
   "source": [
    "# renaming headers of sample data\n",
    "sample_df = sample_dt.rename(columns={\"ApplicantIncome\" : \"Applicant_Income\", \"CoapplicantIncome\": \"Co-Applicant_Income\", \"LoanAmount\": \"Loan_Amount_Thousands\", \"Loan_Amount_Term\": \"Loan_Term_Months\", \"Credit_History\": \"Credit_History_Requirements\", \"Loan_Status\": \"Loan_Approval\"})\n",
    "\n",
    "# renaming headers of test data\n",
    "test_df = test_dt.rename(columns={\"ApplicantIncome\" : \"Applicant_Income\", \"CoapplicantIncome\": \"Co-Applicant_Income\", \"LoanAmount\": \"Loan_Amount_Thousands\", \"Loan_Amount_Term\": \"Loan_Term_Months\", \"Credit_History\": \"Credit_History_Requirements\"})"
   ]
  },
  {
   "cell_type": "code",
   "execution_count": 11,
   "metadata": {},
   "outputs": [],
   "source": [
    "sample_df[\"Credit_History_Requirements\"].replace({1.0: \"Yes\", 0.0: \"No\"}, inplace=True)\n",
    "test_df[\"Credit_History_Requirements\"].replace({1.0: \"Yes\", 0.0: \"No\"}, inplace=True)"
   ]
  },
  {
   "cell_type": "markdown",
   "metadata": {},
   "source": [
    "#### 4.\tSummary Statistics of Data"
   ]
  },
  {
   "cell_type": "markdown",
   "metadata": {},
   "source": [
    "Describing the Statistics of all numerical data"
   ]
  },
  {
   "cell_type": "code",
   "execution_count": 12,
   "metadata": {},
   "outputs": [
    {
     "name": "stdout",
     "output_type": "stream",
     "text": [
      "Describe Data\n"
     ]
    },
    {
     "data": {
      "text/html": [
       "<div>\n",
       "<style scoped>\n",
       "    .dataframe tbody tr th:only-of-type {\n",
       "        vertical-align: middle;\n",
       "    }\n",
       "\n",
       "    .dataframe tbody tr th {\n",
       "        vertical-align: top;\n",
       "    }\n",
       "\n",
       "    .dataframe thead th {\n",
       "        text-align: right;\n",
       "    }\n",
       "</style>\n",
       "<table border=\"1\" class=\"dataframe\">\n",
       "  <thead>\n",
       "    <tr style=\"text-align: right;\">\n",
       "      <th></th>\n",
       "      <th>Applicant_Income</th>\n",
       "      <th>Co-Applicant_Income</th>\n",
       "      <th>Loan_Amount_Thousands</th>\n",
       "      <th>Loan_Term_Months</th>\n",
       "    </tr>\n",
       "  </thead>\n",
       "  <tbody>\n",
       "    <tr>\n",
       "      <th>count</th>\n",
       "      <td>614.000000</td>\n",
       "      <td>614.000000</td>\n",
       "      <td>592.000000</td>\n",
       "      <td>600.00000</td>\n",
       "    </tr>\n",
       "    <tr>\n",
       "      <th>mean</th>\n",
       "      <td>5403.459283</td>\n",
       "      <td>1621.245798</td>\n",
       "      <td>146.412162</td>\n",
       "      <td>342.00000</td>\n",
       "    </tr>\n",
       "    <tr>\n",
       "      <th>std</th>\n",
       "      <td>6109.041673</td>\n",
       "      <td>2926.248369</td>\n",
       "      <td>85.587325</td>\n",
       "      <td>65.12041</td>\n",
       "    </tr>\n",
       "    <tr>\n",
       "      <th>min</th>\n",
       "      <td>150.000000</td>\n",
       "      <td>0.000000</td>\n",
       "      <td>9.000000</td>\n",
       "      <td>12.00000</td>\n",
       "    </tr>\n",
       "    <tr>\n",
       "      <th>25%</th>\n",
       "      <td>2877.500000</td>\n",
       "      <td>0.000000</td>\n",
       "      <td>100.000000</td>\n",
       "      <td>360.00000</td>\n",
       "    </tr>\n",
       "    <tr>\n",
       "      <th>50%</th>\n",
       "      <td>3812.500000</td>\n",
       "      <td>1188.500000</td>\n",
       "      <td>128.000000</td>\n",
       "      <td>360.00000</td>\n",
       "    </tr>\n",
       "    <tr>\n",
       "      <th>75%</th>\n",
       "      <td>5795.000000</td>\n",
       "      <td>2297.250000</td>\n",
       "      <td>168.000000</td>\n",
       "      <td>360.00000</td>\n",
       "    </tr>\n",
       "    <tr>\n",
       "      <th>max</th>\n",
       "      <td>81000.000000</td>\n",
       "      <td>41667.000000</td>\n",
       "      <td>700.000000</td>\n",
       "      <td>480.00000</td>\n",
       "    </tr>\n",
       "  </tbody>\n",
       "</table>\n",
       "</div>"
      ],
      "text/plain": [
       "       Applicant_Income  Co-Applicant_Income  Loan_Amount_Thousands  \\\n",
       "count        614.000000           614.000000             592.000000   \n",
       "mean        5403.459283          1621.245798             146.412162   \n",
       "std         6109.041673          2926.248369              85.587325   \n",
       "min          150.000000             0.000000               9.000000   \n",
       "25%         2877.500000             0.000000             100.000000   \n",
       "50%         3812.500000          1188.500000             128.000000   \n",
       "75%         5795.000000          2297.250000             168.000000   \n",
       "max        81000.000000         41667.000000             700.000000   \n",
       "\n",
       "       Loan_Term_Months  \n",
       "count         600.00000  \n",
       "mean          342.00000  \n",
       "std            65.12041  \n",
       "min            12.00000  \n",
       "25%           360.00000  \n",
       "50%           360.00000  \n",
       "75%           360.00000  \n",
       "max           480.00000  "
      ]
     },
     "execution_count": 12,
     "metadata": {},
     "output_type": "execute_result"
    }
   ],
   "source": [
    "print(\"Describe Data\")\n",
    "sample_df.describe()"
   ]
  },
  {
   "cell_type": "markdown",
   "metadata": {},
   "source": [
    "Summary for categorical data"
   ]
  },
  {
   "cell_type": "code",
   "execution_count": 13,
   "metadata": {},
   "outputs": [
    {
     "name": "stdout",
     "output_type": "stream",
     "text": [
      "Summarized Data\n"
     ]
    },
    {
     "data": {
      "text/html": [
       "<div>\n",
       "<style scoped>\n",
       "    .dataframe tbody tr th:only-of-type {\n",
       "        vertical-align: middle;\n",
       "    }\n",
       "\n",
       "    .dataframe tbody tr th {\n",
       "        vertical-align: top;\n",
       "    }\n",
       "\n",
       "    .dataframe thead th {\n",
       "        text-align: right;\n",
       "    }\n",
       "</style>\n",
       "<table border=\"1\" class=\"dataframe\">\n",
       "  <thead>\n",
       "    <tr style=\"text-align: right;\">\n",
       "      <th></th>\n",
       "      <th>Loan_ID</th>\n",
       "      <th>Gender</th>\n",
       "      <th>Married</th>\n",
       "      <th>Dependents</th>\n",
       "      <th>Education</th>\n",
       "      <th>Self_Employed</th>\n",
       "      <th>Credit_History_Requirements</th>\n",
       "      <th>Property_Area</th>\n",
       "      <th>Loan_Approval</th>\n",
       "    </tr>\n",
       "  </thead>\n",
       "  <tbody>\n",
       "    <tr>\n",
       "      <th>count</th>\n",
       "      <td>614</td>\n",
       "      <td>601</td>\n",
       "      <td>611</td>\n",
       "      <td>599</td>\n",
       "      <td>614</td>\n",
       "      <td>582</td>\n",
       "      <td>564</td>\n",
       "      <td>614</td>\n",
       "      <td>614</td>\n",
       "    </tr>\n",
       "    <tr>\n",
       "      <th>unique</th>\n",
       "      <td>614</td>\n",
       "      <td>2</td>\n",
       "      <td>2</td>\n",
       "      <td>4</td>\n",
       "      <td>2</td>\n",
       "      <td>2</td>\n",
       "      <td>2</td>\n",
       "      <td>3</td>\n",
       "      <td>2</td>\n",
       "    </tr>\n",
       "    <tr>\n",
       "      <th>top</th>\n",
       "      <td>LP002484</td>\n",
       "      <td>Male</td>\n",
       "      <td>Yes</td>\n",
       "      <td>0</td>\n",
       "      <td>Graduate</td>\n",
       "      <td>No</td>\n",
       "      <td>Yes</td>\n",
       "      <td>Semiurban</td>\n",
       "      <td>Y</td>\n",
       "    </tr>\n",
       "    <tr>\n",
       "      <th>freq</th>\n",
       "      <td>1</td>\n",
       "      <td>489</td>\n",
       "      <td>398</td>\n",
       "      <td>345</td>\n",
       "      <td>480</td>\n",
       "      <td>500</td>\n",
       "      <td>475</td>\n",
       "      <td>233</td>\n",
       "      <td>422</td>\n",
       "    </tr>\n",
       "  </tbody>\n",
       "</table>\n",
       "</div>"
      ],
      "text/plain": [
       "         Loan_ID Gender Married Dependents Education Self_Employed  \\\n",
       "count        614    601     611        599       614           582   \n",
       "unique       614      2       2          4         2             2   \n",
       "top     LP002484   Male     Yes          0  Graduate            No   \n",
       "freq           1    489     398        345       480           500   \n",
       "\n",
       "       Credit_History_Requirements Property_Area Loan_Approval  \n",
       "count                          564           614           614  \n",
       "unique                           2             3             2  \n",
       "top                            Yes     Semiurban             Y  \n",
       "freq                           475           233           422  "
      ]
     },
     "execution_count": 13,
     "metadata": {},
     "output_type": "execute_result"
    }
   ],
   "source": [
    "print(\"Summarized Data\")\n",
    "sample_df.describe(include=['O'])"
   ]
  },
  {
   "cell_type": "code",
   "execution_count": 14,
   "metadata": {},
   "outputs": [],
   "source": [
    "stat = sample_df.describe(include=['O'])"
   ]
  },
  {
   "cell_type": "code",
   "execution_count": 15,
   "metadata": {},
   "outputs": [],
   "source": [
    "Percentage_top = []\n",
    "for col in stat.columns:\n",
    "    x = (stat.at['freq', col]/stat.at['count', col])*100\n",
    "    x = round(x, 2)\n",
    "    Percentage_top.append(x)"
   ]
  },
  {
   "cell_type": "code",
   "execution_count": 16,
   "metadata": {},
   "outputs": [],
   "source": [
    "stat.loc['Percentage_top'] = Percentage_top"
   ]
  },
  {
   "cell_type": "markdown",
   "metadata": {},
   "source": [
    "The minimum and maximum of applicant income is 150 and 81,000. So, Income can be an important feature. Co-applicant income can also be an important variable. Credit history requirements has more frequent Yes, while self_employed has more frequent No."
   ]
  },
  {
   "cell_type": "markdown",
   "metadata": {},
   "source": [
    "#### 5.\tHistograms for Numeric Data"
   ]
  },
  {
   "cell_type": "code",
   "execution_count": 17,
   "metadata": {},
   "outputs": [],
   "source": [
    "def histogram(xaxes, yaxes, df, x, y, nrows, color):\n",
    "    # set figure size\n",
    "    plt.rcParams['figure.figsize'] = (x, y)\n",
    "\n",
    "    # make subplots\n",
    "    fig, axes = plt.subplots(nrows = nrows, ncols = 2)\n",
    "  \n",
    "    # draw histograms in for loop\n",
    "    axes = axes.ravel()\n",
    "    for idx, ax in enumerate(axes):\n",
    "        # drops NaN values\n",
    "        ax.hist(df[num_features[idx]].dropna(), bins=40, color= color)\n",
    "        ax.set_xlabel(xaxes[idx], fontsize=20)\n",
    "        ax.set_ylabel(yaxes[idx], fontsize=20)\n",
    "        ax.tick_params(axis='both', labelsize=15)\n",
    "\n",
    "    plt.show()\n"
   ]
  },
  {
   "cell_type": "markdown",
   "metadata": {},
   "source": [
    "**Sample Data**"
   ]
  },
  {
   "cell_type": "code",
   "execution_count": 18,
   "metadata": {},
   "outputs": [
    {
     "data": {
      "image/png": "[encoded data removed]",
      "text/plain": [
       "<Figure size 1440x720 with 4 Axes>"
      ]
     },
     "metadata": {},
     "output_type": "display_data"
    }
   ],
   "source": [
    "# Specify the features of interest\n",
    "num_features = ['Applicant_Income', 'Co-Applicant_Income', 'Loan_Amount_Thousands', 'Loan_Term_Months']\n",
    "xaxes = num_features\n",
    "yaxes = ['Counts', 'Counts', 'Counts', 'Counts']\n",
    "histogram(xaxes, yaxes, sample_df, 20, 10, 2, 'xkcd:blue green')"
   ]
  },
  {
   "cell_type": "markdown",
   "metadata": {},
   "source": [
    "1.\tApplicant Income has a median 3812.5 with extreme value of 81,000\n",
    "2.\tMost Applicants had no Co-applicants with mean co-applicant income is 1621.24\n",
    "3.\tMedian loan amount is 146,412.\n",
    "4.\tLoan term seems like a categorical data type"
   ]
  },
  {
   "cell_type": "markdown",
   "metadata": {},
   "source": [
    "#### 6.\tBoxplot for Numeric Data"
   ]
  },
  {
   "cell_type": "code",
   "execution_count": 19,
   "metadata": {},
   "outputs": [
    {
     "data": {
      "image/png": "[encoded data removed]",
      "text/plain": [
       "<Figure size 1440x720 with 4 Axes>"
      ]
     },
     "metadata": {},
     "output_type": "display_data"
    }
   ],
   "source": [
    "# set figure size\n",
    "plt.rcParams['figure.figsize'] = (20, 10)\n",
    "\n",
    "# make subplots\n",
    "fig, axes = plt.subplots(nrows = 2, ncols = 2)\n",
    "\n",
    "# draw boxplots in for loop\n",
    "axes = axes.ravel()\n",
    "for idx, col in enumerate(num_features):\n",
    "    # seaborn library \n",
    "    sns.boxplot(y=col,x='Loan_Approval', data=sample_df.dropna(), ax=axes[idx])\n",
    "\n",
    "plt.show()\n"
   ]
  },
  {
   "cell_type": "markdown",
   "metadata": {},
   "source": [
    "Numerical Data has no significant relevance to the Loan Approval"
   ]
  },
  {
   "cell_type": "markdown",
   "metadata": {},
   "source": [
    "#### 7.\tBar Charts for the Categorical Data"
   ]
  },
  {
   "cell_type": "code",
   "execution_count": 20,
   "metadata": {},
   "outputs": [],
   "source": [
    "def barcharts(features, df, x, y, nrows):\n",
    "    # set figure size\n",
    "    plt.rcParams['figure.figsize'] = (x, y)\n",
    "\n",
    "    fig,axes = plt.subplots(nrows = nrows, ncols = 2)\n",
    "    for idx,col in enumerate(features):\n",
    "        if col != 'Loan_Approval':\n",
    "            row,column = idx//2,idx%2\n",
    "            sns.countplot(x=col,data=df,hue=df['Loan_Approval'],ax=axes[row,column])\n",
    "            plt.legend([\"blue\", \"orange\"], prop={\"size\":10})\n"
   ]
  },
  {
   "cell_type": "code",
   "execution_count": 21,
   "metadata": {
    "scrolled": false
   },
   "outputs": [
    {
     "data": {
      "image/png": "[encoded data removed]",
      "text/plain": [
       "<Figure size 1080x1440 with 8 Axes>"
      ]
     },
     "metadata": {},
     "output_type": "display_data"
    }
   ],
   "source": [
    "cat_features = ['Gender', 'Married', 'Dependents', 'Education', 'Self_Employed', 'Property_Area','Credit_History_Requirements', 'Loan_Term_Months']\n",
    "barcharts(cat_features, sample_df, 15, 20, 4)"
   ]
  },
  {
   "cell_type": "code",
   "execution_count": 22,
   "metadata": {},
   "outputs": [
    {
     "data": {
      "text/html": [
       "<div>\n",
       "<style scoped>\n",
       "    .dataframe tbody tr th:only-of-type {\n",
       "        vertical-align: middle;\n",
       "    }\n",
       "\n",
       "    .dataframe tbody tr th {\n",
       "        vertical-align: top;\n",
       "    }\n",
       "\n",
       "    .dataframe thead th {\n",
       "        text-align: right;\n",
       "    }\n",
       "</style>\n",
       "<table border=\"1\" class=\"dataframe\">\n",
       "  <thead>\n",
       "    <tr style=\"text-align: right;\">\n",
       "      <th></th>\n",
       "      <th>Loan_ID</th>\n",
       "      <th>Gender</th>\n",
       "      <th>Married</th>\n",
       "      <th>Dependents</th>\n",
       "      <th>Education</th>\n",
       "      <th>Self_Employed</th>\n",
       "      <th>Credit_History_Requirements</th>\n",
       "      <th>Property_Area</th>\n",
       "      <th>Loan_Approval</th>\n",
       "    </tr>\n",
       "  </thead>\n",
       "  <tbody>\n",
       "    <tr>\n",
       "      <th>count</th>\n",
       "      <td>614</td>\n",
       "      <td>601</td>\n",
       "      <td>611</td>\n",
       "      <td>599</td>\n",
       "      <td>614</td>\n",
       "      <td>582</td>\n",
       "      <td>564</td>\n",
       "      <td>614</td>\n",
       "      <td>614</td>\n",
       "    </tr>\n",
       "    <tr>\n",
       "      <th>unique</th>\n",
       "      <td>614</td>\n",
       "      <td>2</td>\n",
       "      <td>2</td>\n",
       "      <td>4</td>\n",
       "      <td>2</td>\n",
       "      <td>2</td>\n",
       "      <td>2</td>\n",
       "      <td>3</td>\n",
       "      <td>2</td>\n",
       "    </tr>\n",
       "    <tr>\n",
       "      <th>top</th>\n",
       "      <td>LP002600</td>\n",
       "      <td>Male</td>\n",
       "      <td>Yes</td>\n",
       "      <td>0</td>\n",
       "      <td>Graduate</td>\n",
       "      <td>No</td>\n",
       "      <td>Yes</td>\n",
       "      <td>Semiurban</td>\n",
       "      <td>Y</td>\n",
       "    </tr>\n",
       "    <tr>\n",
       "      <th>freq</th>\n",
       "      <td>1</td>\n",
       "      <td>489</td>\n",
       "      <td>398</td>\n",
       "      <td>345</td>\n",
       "      <td>480</td>\n",
       "      <td>500</td>\n",
       "      <td>475</td>\n",
       "      <td>233</td>\n",
       "      <td>422</td>\n",
       "    </tr>\n",
       "    <tr>\n",
       "      <th>Percentage_top</th>\n",
       "      <td>0.16</td>\n",
       "      <td>81.36</td>\n",
       "      <td>65.14</td>\n",
       "      <td>57.6</td>\n",
       "      <td>78.18</td>\n",
       "      <td>85.91</td>\n",
       "      <td>84.22</td>\n",
       "      <td>37.95</td>\n",
       "      <td>68.73</td>\n",
       "    </tr>\n",
       "  </tbody>\n",
       "</table>\n",
       "</div>"
      ],
      "text/plain": [
       "                 Loan_ID Gender Married Dependents Education Self_Employed  \\\n",
       "count                614    601     611        599       614           582   \n",
       "unique               614      2       2          4         2             2   \n",
       "top             LP002600   Male     Yes          0  Graduate            No   \n",
       "freq                   1    489     398        345       480           500   \n",
       "Percentage_top      0.16  81.36   65.14       57.6     78.18         85.91   \n",
       "\n",
       "               Credit_History_Requirements Property_Area Loan_Approval  \n",
       "count                                  564           614           614  \n",
       "unique                                   2             3             2  \n",
       "top                                    Yes     Semiurban             Y  \n",
       "freq                                   475           233           422  \n",
       "Percentage_top                       84.22         37.95         68.73  "
      ]
     },
     "execution_count": 22,
     "metadata": {},
     "output_type": "execute_result"
    }
   ],
   "source": [
    "stat"
   ]
  },
  {
   "cell_type": "code",
   "execution_count": 23,
   "metadata": {
    "scrolled": true
   },
   "outputs": [
    {
     "name": "stdout",
     "output_type": "stream",
     "text": [
      "Y rate in Gender of Female is 66.96%\n",
      "Y rate in Gender of Male is 69.33%\n",
      "Y rate in Married of No is 62.91%\n",
      "Y rate in Married of Yes is 71.61%\n",
      "Y rate in Dependents of 0 is 68.99%\n",
      "Y rate in Dependents of 1 is 64.71%\n",
      "Y rate in Dependents of 2 is 75.25%\n",
      "Y rate in Dependents of 3+ is 64.71%\n",
      "Y rate in Education of Graduate is 70.83%\n",
      "Y rate in Education of Not Graduate is 61.19%\n",
      "Y rate in Self_Employed of No is 68.6%\n",
      "Y rate in Self_Employed of Yes is 68.29%\n",
      "Y rate in Property_Area of Rural is 61.45%\n",
      "Y rate in Property_Area of Semiurban is 76.82%\n",
      "Y rate in Property_Area of Urban is 65.84%\n",
      "N rate in Credit_History_Requirements of No is 92.13%\n",
      "Y rate in Credit_History_Requirements of Yes is 79.58%\n",
      "Y rate in Loan_Term_Months of 12.0 is 100.0%\n",
      "N rate in Loan_Term_Months of 36.0 is 100.0%\n",
      "Y rate in Loan_Term_Months of 60.0 is 100.0%\n",
      "Y rate in Loan_Term_Months of 84.0 is 75.0%\n",
      "Y rate in Loan_Term_Months of 120.0 is 100.0%\n",
      "Y rate in Loan_Term_Months of 180.0 is 65.91%\n",
      "Y rate in Loan_Term_Months of 240.0 is 75.0%\n",
      "Y rate in Loan_Term_Months of 300.0 is 61.54%\n",
      "Y rate in Loan_Term_Months of 360.0 is 70.12%\n",
      "N rate in Loan_Term_Months of 480.0 is 60.0%\n"
     ]
    }
   ],
   "source": [
    "cat_features = ['Gender', 'Married', 'Dependents', 'Education', 'Self_Employed', 'Property_Area','Credit_History_Requirements','Loan_Term_Months', 'Loan_Approval']\n",
    "cat = sample_df[cat_features]\n",
    "for col in cat.columns:\n",
    "    if col !='Loan_Approval':\n",
    "        # creates a group by table for each column category and it's frequency\n",
    "        Approval = cat.groupby(col).describe(include=['O'])['Loan_Approval']\n",
    "        for i, rows in Approval.iterrows(): # for each category\n",
    "            p = (Approval.at[i, 'freq']/Approval.at[i, 'count'])*100  # calculates the percentage of approval\n",
    "            print('{} rate in {} of {} is {}%'.format(Approval.at[i, 'top'], Approval.index.name, i, round(p,2)))\n"
   ]
  },
  {
   "cell_type": "markdown",
   "metadata": {},
   "source": [
    "<a id='Key_Observations'></a>\n",
    "\n",
    "#### Key Observations\n",
    "\n",
    "##### 1. There 81.36% male applicants and had 69.33% chance of approval. Slightly higher than females\n",
    "##### 2. There were 65.14% percent of married applicants, with approval rate of 71.61%\n",
    "##### 3. Although, there were higher number of applicants with 0 dependents, their approval rate (68.99%) was slightly lower than the applicants with atleast 2 dependents (75.25%).\n",
    "##### 4. There were 78.18% college graduate applicants with approvalr rate of 70.83%.\n",
    "##### 5. There were 85.91% applicants who were not Self_Employed. Approval rate for self-employed (68.3%) and non self employed (68.6%) were almost the same.\n",
    "##### 6. Applicants from Semi-urban areas are likely to be approved with 76.82% approval rate. There were also more applicants from semiurban areas.\n",
    "##### 7. Applicants who meet the credit history requirements has 79.58% chance of getting approved, applicants who didn't meet credit history requirements had 92.13% chance of getting denied.\n",
    "##### 8. About 68.73% of the Loans are approved out of total applications.\n",
    "##### 9. 85.3% loans were for 360 months, with 70.12% approval rate. Less than or equal 60 months loan term had 100% approval."
   ]
  },
  {
   "cell_type": "code",
   "execution_count": 24,
   "metadata": {},
   "outputs": [
    {
     "data": {
      "image/png": "[encoded data removed]",
      "text/plain": [
       "<Figure size 720x1080 with 2 Axes>"
      ]
     },
     "metadata": {},
     "output_type": "display_data"
    },
    {
     "data": {
      "text/plain": [
       "<AxesSubplot:title={'center':'Pearson Ranking of 3 Features'}>"
      ]
     },
     "execution_count": 24,
     "metadata": {},
     "output_type": "execute_result"
    }
   ],
   "source": [
    "num_features = ['Applicant_Income', 'Co-Applicant_Income', 'Loan_Amount_Thousands']\n",
    "\n",
    "#set up the figure size\n",
    "plt.rcParams['figure.figsize'] = (10, 15)\n",
    "\n",
    "# import the package for visulization of the correlation\n",
    "from yellowbrick.features import Rank2D\n",
    "\n",
    "# extract the numpy arrays from the data frame\n",
    "X = sample_df[num_features].dropna().values\n",
    "\n",
    "# instantiate the visualizer with the Covariance ranking algorithm\n",
    "visualizer = Rank2D(features=num_features, algorithm='pearson')\n",
    "\n",
    "# Fit the data to the visualizer\n",
    "visualizer.fit(X)\n",
    "\n",
    "# Transform the data\n",
    "visualizer.transform(X)\n",
    "\n",
    "visualizer.show()"
   ]
  },
  {
   "cell_type": "markdown",
   "metadata": {},
   "source": [
    "There seem to have some positive correlation (~.50) between loan amount and applicant salary. There is a weak correlation between loan amount and co-applicant salary."
   ]
  },
  {
   "cell_type": "markdown",
   "metadata": {},
   "source": [
    "#### 8. Part 1 Summary\n",
    "\n",
    "##### Observations\n",
    "\n",
    "1. Married couple with zero dependents is more likely to get approved.\n",
    "2. It is possible for higher approval in males (need more analysis to confirm).\n",
    "3. Applicants with graduate degree and applicants who are not self-employed has more chances for approval.\n",
    "4. Applicant's residence area matter."
   ]
  },
  {
   "cell_type": "markdown",
   "metadata": {},
   "source": [
    "##### Part 2 Steps\n",
    "\n",
    "1. Analyze more based on individual categories.\n",
    "2. Deal with Anomalies and see whether to keep or drop it.\n",
    "3. Feature selection if needed.\n",
    "4. Select classifier model to build automated system to approve loans."
   ]
  },
  {
   "cell_type": "markdown",
   "metadata": {},
   "source": [
    "<a id='Part_2_Analysis_-_Dimensionality_Reduction'></a>\n",
    "### Part 2 Analysis - Dimensionality Reduction"
   ]
  },
  {
   "cell_type": "markdown",
   "metadata": {},
   "source": [
    "#### 1.\tHandling Missing Values"
   ]
  },
  {
   "cell_type": "code",
   "execution_count": 25,
   "metadata": {},
   "outputs": [],
   "source": [
    "# check for missing value\n",
    "def percentMissing(df):\n",
    "    \n",
    "    df_numeric = df.select_dtypes(include=[np.number])\n",
    "    numeric_cols = df_numeric.columns.values\n",
    "    print(numeric_cols)\n",
    "    \n",
    "    # % of missing data\n",
    "    for col in df.columns:\n",
    "        # create missing indicator for features with missing data\n",
    "        missing = df[col].isnull()\n",
    "        pct_missing = np.mean(missing)*100\n",
    "        print('{} - {}%'.format(col, round(pct_missing)))\n",
    "        num_missing = np.sum(missing)\n",
    "        \n",
    "    return df"
   ]
  },
  {
   "cell_type": "code",
   "execution_count": 26,
   "metadata": {},
   "outputs": [
    {
     "name": "stdout",
     "output_type": "stream",
     "text": [
      "['Applicant_Income' 'Co-Applicant_Income' 'Loan_Amount_Thousands'\n",
      " 'Loan_Term_Months']\n",
      "Loan_ID - 0%\n",
      "Gender - 3%\n",
      "Married - 0%\n",
      "Dependents - 3%\n",
      "Education - 0%\n",
      "Self_Employed - 6%\n",
      "Applicant_Income - 0%\n",
      "Co-Applicant_Income - 0%\n",
      "Loan_Amount_Thousands - 1%\n",
      "Loan_Term_Months - 2%\n",
      "Credit_History_Requirements - 8%\n",
      "Property_Area - 0%\n"
     ]
    }
   ],
   "source": [
    "test_df = percentMissing(test_df)"
   ]
  },
  {
   "cell_type": "code",
   "execution_count": 27,
   "metadata": {},
   "outputs": [
    {
     "data": {
      "text/plain": [
       "(289, 12)"
      ]
     },
     "execution_count": 27,
     "metadata": {},
     "output_type": "execute_result"
    }
   ],
   "source": [
    "# dropping rows\n",
    "test_df = test_df.dropna(axis=0)\n",
    "test_df.shape"
   ]
  },
  {
   "cell_type": "markdown",
   "metadata": {},
   "source": [
    "Missing value for test dataset is easy to fix, we just going to drop it because we are treating it as unknown dataset"
   ]
  },
  {
   "cell_type": "code",
   "execution_count": 28,
   "metadata": {},
   "outputs": [
    {
     "name": "stdout",
     "output_type": "stream",
     "text": [
      "['Applicant_Income' 'Co-Applicant_Income' 'Loan_Amount_Thousands'\n",
      " 'Loan_Term_Months']\n",
      "Loan_ID - 0%\n",
      "Gender - 2%\n",
      "Married - 0%\n",
      "Dependents - 2%\n",
      "Education - 0%\n",
      "Self_Employed - 5%\n",
      "Applicant_Income - 0%\n",
      "Co-Applicant_Income - 0%\n",
      "Loan_Amount_Thousands - 4%\n",
      "Loan_Term_Months - 2%\n",
      "Credit_History_Requirements - 8%\n",
      "Property_Area - 0%\n",
      "Loan_Approval - 0%\n"
     ]
    }
   ],
   "source": [
    "sample_df = percentMissing(sample_df)"
   ]
  },
  {
   "cell_type": "markdown",
   "metadata": {},
   "source": [
    "Missing value for sample dataset is little tricky, we will try to predict values by using KNN Imputer, which is based on knn model to predict and fill in the values. I do not want to drop the values because I think they all have some significance in the loan approval. I will revisit this step later after converting the categorical data into numerical or binary data"
   ]
  },
  {
   "cell_type": "code",
   "execution_count": 29,
   "metadata": {},
   "outputs": [
    {
     "name": "stdout",
     "output_type": "stream",
     "text": [
      "Loan ID duplicated: False\n"
     ]
    }
   ],
   "source": [
    "# Check for duplicates\n",
    "print(\"Loan ID duplicated: {}\".format(any(sample_df.Loan_ID.duplicated())))"
   ]
  },
  {
   "cell_type": "markdown",
   "metadata": {},
   "source": [
    "Removing Loan_ID features since they are unique values and add no value to the data."
   ]
  },
  {
   "cell_type": "code",
   "execution_count": 30,
   "metadata": {},
   "outputs": [],
   "source": [
    "sample_df = sample_df.drop(columns=['Loan_ID'])\n",
    "test_df = test_df.drop(columns=['Loan_ID'])"
   ]
  },
  {
   "cell_type": "code",
   "execution_count": 31,
   "metadata": {},
   "outputs": [],
   "source": [
    "# converting features\n",
    "sample_df = sample_df.replace({'Gender': {'Male': 1, 'Female': 0},'Married': {'Yes': 1, 'No': 0},\n",
    "                         'Dependents': {'3+': 3}, 'Education': {'Graduate': 1, 'Not Graduate': 0},\n",
    "                         'Self_Employed': {'Yes': 1, 'No': 0},'Credit_History_Requirements': {'Yes': 1, 'No': 0},\n",
    "                         'Property_Area': {'Semiurban': 1, 'Urban': 2, 'Rural': 3}})\n",
    "\n",
    "test_df = test_df.replace({'Gender': {'Male': 1, 'Female': 0},'Married': {'Yes': 1, 'No': 0},\n",
    "                         'Dependents': {'3+': 3}, 'Education': {'Graduate': 1, 'Not Graduate': 0},\n",
    "                         'Self_Employed': {'Yes': 1, 'No': 0},'Credit_History_Requirements': {'Yes': 1, 'No': 0},\n",
    "                         'Property_Area': {'Semiurban': 1, 'Urban': 2, 'Rural': 3}})"
   ]
  },
  {
   "cell_type": "code",
   "execution_count": 32,
   "metadata": {},
   "outputs": [],
   "source": [
    "# Load libraries\n",
    "from sklearn.impute import KNNImputer"
   ]
  },
  {
   "cell_type": "code",
   "execution_count": 33,
   "metadata": {},
   "outputs": [],
   "source": [
    "X, Y = sample_df.drop(columns='Loan_Approval'), sample_df['Loan_Approval']"
   ]
  },
  {
   "cell_type": "code",
   "execution_count": 34,
   "metadata": {},
   "outputs": [],
   "source": [
    "# define imputer\n",
    "imputer = KNNImputer()\n",
    "\n",
    "# fit on the dataset\n",
    "imputer.fit(X)\n",
    "\n",
    "# transform the dataset\n",
    "Xtrans = imputer.transform(X)\n"
   ]
  },
  {
   "cell_type": "code",
   "execution_count": 35,
   "metadata": {},
   "outputs": [],
   "source": [
    "col_names = []\n",
    "for col in X.columns:\n",
    "    col_names.append(col)"
   ]
  },
  {
   "cell_type": "code",
   "execution_count": 36,
   "metadata": {},
   "outputs": [
    {
     "data": {
      "text/plain": [
       "['Gender',\n",
       " 'Married',\n",
       " 'Dependents',\n",
       " 'Education',\n",
       " 'Self_Employed',\n",
       " 'Applicant_Income',\n",
       " 'Co-Applicant_Income',\n",
       " 'Loan_Amount_Thousands',\n",
       " 'Loan_Term_Months',\n",
       " 'Credit_History_Requirements',\n",
       " 'Property_Area']"
      ]
     },
     "execution_count": 36,
     "metadata": {},
     "output_type": "execute_result"
    }
   ],
   "source": [
    "col_names"
   ]
  },
  {
   "cell_type": "code",
   "execution_count": 37,
   "metadata": {},
   "outputs": [],
   "source": [
    "X_df = pd.DataFrame(Xtrans,columns=col_names)"
   ]
  },
  {
   "cell_type": "code",
   "execution_count": 38,
   "metadata": {},
   "outputs": [
    {
     "name": "stdout",
     "output_type": "stream",
     "text": [
      "['Gender' 'Married' 'Dependents' 'Education' 'Self_Employed'\n",
      " 'Applicant_Income' 'Co-Applicant_Income' 'Loan_Amount_Thousands'\n",
      " 'Loan_Term_Months' 'Credit_History_Requirements' 'Property_Area']\n",
      "Gender - 0%\n",
      "Married - 0%\n",
      "Dependents - 0%\n",
      "Education - 0%\n",
      "Self_Employed - 0%\n",
      "Applicant_Income - 0%\n",
      "Co-Applicant_Income - 0%\n",
      "Loan_Amount_Thousands - 0%\n",
      "Loan_Term_Months - 0%\n",
      "Credit_History_Requirements - 0%\n",
      "Property_Area - 0%\n"
     ]
    },
    {
     "data": {
      "text/html": [
       "<div>\n",
       "<style scoped>\n",
       "    .dataframe tbody tr th:only-of-type {\n",
       "        vertical-align: middle;\n",
       "    }\n",
       "\n",
       "    .dataframe tbody tr th {\n",
       "        vertical-align: top;\n",
       "    }\n",
       "\n",
       "    .dataframe thead th {\n",
       "        text-align: right;\n",
       "    }\n",
       "</style>\n",
       "<table border=\"1\" class=\"dataframe\">\n",
       "  <thead>\n",
       "    <tr style=\"text-align: right;\">\n",
       "      <th></th>\n",
       "      <th>Gender</th>\n",
       "      <th>Married</th>\n",
       "      <th>Dependents</th>\n",
       "      <th>Education</th>\n",
       "      <th>Self_Employed</th>\n",
       "      <th>Applicant_Income</th>\n",
       "      <th>Co-Applicant_Income</th>\n",
       "      <th>Loan_Amount_Thousands</th>\n",
       "      <th>Loan_Term_Months</th>\n",
       "      <th>Credit_History_Requirements</th>\n",
       "      <th>Property_Area</th>\n",
       "    </tr>\n",
       "  </thead>\n",
       "  <tbody>\n",
       "    <tr>\n",
       "      <th>0</th>\n",
       "      <td>1.0</td>\n",
       "      <td>0.0</td>\n",
       "      <td>0.0</td>\n",
       "      <td>1.0</td>\n",
       "      <td>0.0</td>\n",
       "      <td>5849.0</td>\n",
       "      <td>0.0</td>\n",
       "      <td>147.8</td>\n",
       "      <td>360.0</td>\n",
       "      <td>1.0</td>\n",
       "      <td>2.0</td>\n",
       "    </tr>\n",
       "    <tr>\n",
       "      <th>1</th>\n",
       "      <td>1.0</td>\n",
       "      <td>1.0</td>\n",
       "      <td>1.0</td>\n",
       "      <td>1.0</td>\n",
       "      <td>0.0</td>\n",
       "      <td>4583.0</td>\n",
       "      <td>1508.0</td>\n",
       "      <td>128.0</td>\n",
       "      <td>360.0</td>\n",
       "      <td>1.0</td>\n",
       "      <td>3.0</td>\n",
       "    </tr>\n",
       "    <tr>\n",
       "      <th>2</th>\n",
       "      <td>1.0</td>\n",
       "      <td>1.0</td>\n",
       "      <td>0.0</td>\n",
       "      <td>1.0</td>\n",
       "      <td>1.0</td>\n",
       "      <td>3000.0</td>\n",
       "      <td>0.0</td>\n",
       "      <td>66.0</td>\n",
       "      <td>360.0</td>\n",
       "      <td>1.0</td>\n",
       "      <td>2.0</td>\n",
       "    </tr>\n",
       "    <tr>\n",
       "      <th>3</th>\n",
       "      <td>1.0</td>\n",
       "      <td>1.0</td>\n",
       "      <td>0.0</td>\n",
       "      <td>0.0</td>\n",
       "      <td>0.0</td>\n",
       "      <td>2583.0</td>\n",
       "      <td>2358.0</td>\n",
       "      <td>120.0</td>\n",
       "      <td>360.0</td>\n",
       "      <td>1.0</td>\n",
       "      <td>2.0</td>\n",
       "    </tr>\n",
       "    <tr>\n",
       "      <th>4</th>\n",
       "      <td>1.0</td>\n",
       "      <td>0.0</td>\n",
       "      <td>0.0</td>\n",
       "      <td>1.0</td>\n",
       "      <td>0.0</td>\n",
       "      <td>6000.0</td>\n",
       "      <td>0.0</td>\n",
       "      <td>141.0</td>\n",
       "      <td>360.0</td>\n",
       "      <td>1.0</td>\n",
       "      <td>2.0</td>\n",
       "    </tr>\n",
       "    <tr>\n",
       "      <th>...</th>\n",
       "      <td>...</td>\n",
       "      <td>...</td>\n",
       "      <td>...</td>\n",
       "      <td>...</td>\n",
       "      <td>...</td>\n",
       "      <td>...</td>\n",
       "      <td>...</td>\n",
       "      <td>...</td>\n",
       "      <td>...</td>\n",
       "      <td>...</td>\n",
       "      <td>...</td>\n",
       "    </tr>\n",
       "    <tr>\n",
       "      <th>609</th>\n",
       "      <td>0.0</td>\n",
       "      <td>0.0</td>\n",
       "      <td>0.0</td>\n",
       "      <td>1.0</td>\n",
       "      <td>0.0</td>\n",
       "      <td>2900.0</td>\n",
       "      <td>0.0</td>\n",
       "      <td>71.0</td>\n",
       "      <td>360.0</td>\n",
       "      <td>1.0</td>\n",
       "      <td>3.0</td>\n",
       "    </tr>\n",
       "    <tr>\n",
       "      <th>610</th>\n",
       "      <td>1.0</td>\n",
       "      <td>1.0</td>\n",
       "      <td>3.0</td>\n",
       "      <td>1.0</td>\n",
       "      <td>0.0</td>\n",
       "      <td>4106.0</td>\n",
       "      <td>0.0</td>\n",
       "      <td>40.0</td>\n",
       "      <td>180.0</td>\n",
       "      <td>1.0</td>\n",
       "      <td>3.0</td>\n",
       "    </tr>\n",
       "    <tr>\n",
       "      <th>611</th>\n",
       "      <td>1.0</td>\n",
       "      <td>1.0</td>\n",
       "      <td>1.0</td>\n",
       "      <td>1.0</td>\n",
       "      <td>0.0</td>\n",
       "      <td>8072.0</td>\n",
       "      <td>240.0</td>\n",
       "      <td>253.0</td>\n",
       "      <td>360.0</td>\n",
       "      <td>1.0</td>\n",
       "      <td>2.0</td>\n",
       "    </tr>\n",
       "    <tr>\n",
       "      <th>612</th>\n",
       "      <td>1.0</td>\n",
       "      <td>1.0</td>\n",
       "      <td>2.0</td>\n",
       "      <td>1.0</td>\n",
       "      <td>0.0</td>\n",
       "      <td>7583.0</td>\n",
       "      <td>0.0</td>\n",
       "      <td>187.0</td>\n",
       "      <td>360.0</td>\n",
       "      <td>1.0</td>\n",
       "      <td>2.0</td>\n",
       "    </tr>\n",
       "    <tr>\n",
       "      <th>613</th>\n",
       "      <td>0.0</td>\n",
       "      <td>0.0</td>\n",
       "      <td>0.0</td>\n",
       "      <td>1.0</td>\n",
       "      <td>1.0</td>\n",
       "      <td>4583.0</td>\n",
       "      <td>0.0</td>\n",
       "      <td>133.0</td>\n",
       "      <td>360.0</td>\n",
       "      <td>0.0</td>\n",
       "      <td>1.0</td>\n",
       "    </tr>\n",
       "  </tbody>\n",
       "</table>\n",
       "<p>614 rows × 11 columns</p>\n",
       "</div>"
      ],
      "text/plain": [
       "     Gender  Married  Dependents  Education  Self_Employed  Applicant_Income  \\\n",
       "0       1.0      0.0         0.0        1.0            0.0            5849.0   \n",
       "1       1.0      1.0         1.0        1.0            0.0            4583.0   \n",
       "2       1.0      1.0         0.0        1.0            1.0            3000.0   \n",
       "3       1.0      1.0         0.0        0.0            0.0            2583.0   \n",
       "4       1.0      0.0         0.0        1.0            0.0            6000.0   \n",
       "..      ...      ...         ...        ...            ...               ...   \n",
       "609     0.0      0.0         0.0        1.0            0.0            2900.0   \n",
       "610     1.0      1.0         3.0        1.0            0.0            4106.0   \n",
       "611     1.0      1.0         1.0        1.0            0.0            8072.0   \n",
       "612     1.0      1.0         2.0        1.0            0.0            7583.0   \n",
       "613     0.0      0.0         0.0        1.0            1.0            4583.0   \n",
       "\n",
       "     Co-Applicant_Income  Loan_Amount_Thousands  Loan_Term_Months  \\\n",
       "0                    0.0                  147.8             360.0   \n",
       "1                 1508.0                  128.0             360.0   \n",
       "2                    0.0                   66.0             360.0   \n",
       "3                 2358.0                  120.0             360.0   \n",
       "4                    0.0                  141.0             360.0   \n",
       "..                   ...                    ...               ...   \n",
       "609                  0.0                   71.0             360.0   \n",
       "610                  0.0                   40.0             180.0   \n",
       "611                240.0                  253.0             360.0   \n",
       "612                  0.0                  187.0             360.0   \n",
       "613                  0.0                  133.0             360.0   \n",
       "\n",
       "     Credit_History_Requirements  Property_Area  \n",
       "0                            1.0            2.0  \n",
       "1                            1.0            3.0  \n",
       "2                            1.0            2.0  \n",
       "3                            1.0            2.0  \n",
       "4                            1.0            2.0  \n",
       "..                           ...            ...  \n",
       "609                          1.0            3.0  \n",
       "610                          1.0            3.0  \n",
       "611                          1.0            2.0  \n",
       "612                          1.0            2.0  \n",
       "613                          0.0            1.0  \n",
       "\n",
       "[614 rows x 11 columns]"
      ]
     },
     "execution_count": 38,
     "metadata": {},
     "output_type": "execute_result"
    }
   ],
   "source": [
    "percentMissing(X_df)"
   ]
  },
  {
   "cell_type": "markdown",
   "metadata": {},
   "source": [
    "Stripping white space from the text data"
   ]
  },
  {
   "cell_type": "code",
   "execution_count": 39,
   "metadata": {},
   "outputs": [],
   "source": [
    "for col in X_df.columns:\n",
    "    for i, row in X_df.iterrows():\n",
    "        x = X_df.at[i, col]\n",
    "        if ( 0.0 < x < 0.5):\n",
    "            X_df.at[i, col] = 0\n",
    "        elif ( 0.5 < x < 1.0):\n",
    "            X_df.at[i, col] = 1\n",
    "        else:\n",
    "            None"
   ]
  },
  {
   "cell_type": "code",
   "execution_count": 40,
   "metadata": {},
   "outputs": [],
   "source": [
    "# converting Boolean or categorical variables into integers\n",
    "X_df['Gender'] = X_df['Gender'].astype(int)\n",
    "X_df['Married'] = X_df['Married'].astype(int)\n",
    "X_df['Dependents'] = X_df['Dependents'].astype(int)\n",
    "X_df['Education'] = X_df['Education'].astype(int)\n",
    "X_df['Self_Employed'] = X_df['Self_Employed'].astype(int)\n",
    "X_df['Loan_Term_Months'] = X_df['Loan_Term_Months'].astype(int)\n",
    "X_df['Credit_History_Requirements'] = X_df['Credit_History_Requirements'].astype(int)\n",
    "X_df['Property_Area'] = X_df['Property_Area'].astype(int)"
   ]
  },
  {
   "cell_type": "markdown",
   "metadata": {},
   "source": [
    "#### 2. Splitting the data before Data Transformation and Dimensionality Reduction"
   ]
  },
  {
   "cell_type": "code",
   "execution_count": 41,
   "metadata": {},
   "outputs": [],
   "source": [
    "from sklearn.model_selection import train_test_split\n",
    "features = sample_df.drop(columns=['Loan_Approval'])\n",
    "target = sample_df.Loan_Approval\n",
    "\n",
    "# split the data\n",
    "X_train, X_val, Y_train, Y_val = train_test_split(X_df, Y, test_size =0.25, random_state = 42, shuffle = True, stratify = Y)"
   ]
  },
  {
   "cell_type": "code",
   "execution_count": 42,
   "metadata": {},
   "outputs": [
    {
     "data": {
      "text/plain": [
       "((460, 11), (154, 11))"
      ]
     },
     "execution_count": 42,
     "metadata": {},
     "output_type": "execute_result"
    }
   ],
   "source": [
    "X_train.shape, X_val.shape"
   ]
  },
  {
   "cell_type": "markdown",
   "metadata": {},
   "source": [
    "Training set has 460 observations.  \n",
    "Validation set has 154 observations"
   ]
  },
  {
   "cell_type": "markdown",
   "metadata": {},
   "source": [
    "#### 3. Log transforming variables (applicant's income, co-applicant's income, and loan amount because it is highly skewed data. Adding a Boolean variable of co-applicant and further extend the graph analysis for these three variables. I performed log transformation for both training and validation set."
   ]
  },
  {
   "cell_type": "code",
   "execution_count": 43,
   "metadata": {},
   "outputs": [],
   "source": [
    "# log-transformation of applicant's income and co-applicant's income and loan amount\n",
    "def log_transformation(data):\n",
    "    return data.apply(np.log1p)      "
   ]
  },
  {
   "cell_type": "code",
   "execution_count": 44,
   "metadata": {},
   "outputs": [],
   "source": [
    "def num_log(df):\n",
    "    \n",
    "    df['App_Income_log1p'] = log_transformation(df['Applicant_Income'])\n",
    "    df['Co-App_Income_log1p'] = log_transformation(df['Co-Applicant_Income'])\n",
    "    df['Loan_Amount_log1p'] = log_transformation(df['Loan_Amount_Thousands'])\n",
    "    return df"
   ]
  },
  {
   "cell_type": "code",
   "execution_count": 45,
   "metadata": {},
   "outputs": [],
   "source": [
    "def CoApp(df):\n",
    "    for index, row in df.iterrows():\n",
    "        if df.at[index, 'Co-Applicant_Income'] == 0:\n",
    "            df.at[index, 'Co-Applicant'] = 'No'\n",
    "        else:\n",
    "            df.at[index, 'Co-Applicant'] = 'Yes'\n",
    "    return df"
   ]
  },
  {
   "cell_type": "code",
   "execution_count": 46,
   "metadata": {},
   "outputs": [],
   "source": [
    "X_train = num_log(X_train)\n",
    "X_val = num_log(X_val)\n",
    "\n",
    "test_df= num_log(test_df)"
   ]
  },
  {
   "cell_type": "code",
   "execution_count": 47,
   "metadata": {},
   "outputs": [],
   "source": [
    "X_train['Co-Applicant'] = ''\n",
    "X_train = CoApp(X_train)\n",
    "\n",
    "X_val['Co-Applicant'] = ''\n",
    "X_val = CoApp(X_val)\n",
    "\n",
    "test_df['Co-Applicant'] = ''\n",
    "test_df = CoApp(test_df)"
   ]
  },
  {
   "cell_type": "code",
   "execution_count": 48,
   "metadata": {},
   "outputs": [],
   "source": [
    "X_train = X_train.replace({'Co-Applicant': {'Yes': 1, 'No': 0}})"
   ]
  },
  {
   "cell_type": "code",
   "execution_count": 49,
   "metadata": {},
   "outputs": [],
   "source": [
    "test_df = test_df.replace({'Co-Applicant': {'Yes': 1, 'No': 0}})"
   ]
  },
  {
   "cell_type": "code",
   "execution_count": 50,
   "metadata": {},
   "outputs": [],
   "source": [
    "X_val = X_val.replace({'Co-Applicant': {'Yes': 1, 'No': 0}})"
   ]
  },
  {
   "cell_type": "code",
   "execution_count": 51,
   "metadata": {},
   "outputs": [
    {
     "data": {
      "text/html": [
       "<div>\n",
       "<style scoped>\n",
       "    .dataframe tbody tr th:only-of-type {\n",
       "        vertical-align: middle;\n",
       "    }\n",
       "\n",
       "    .dataframe tbody tr th {\n",
       "        vertical-align: top;\n",
       "    }\n",
       "\n",
       "    .dataframe thead th {\n",
       "        text-align: right;\n",
       "    }\n",
       "</style>\n",
       "<table border=\"1\" class=\"dataframe\">\n",
       "  <thead>\n",
       "    <tr style=\"text-align: right;\">\n",
       "      <th></th>\n",
       "      <th>Gender</th>\n",
       "      <th>Married</th>\n",
       "      <th>Dependents</th>\n",
       "      <th>Education</th>\n",
       "      <th>Self_Employed</th>\n",
       "      <th>Applicant_Income</th>\n",
       "      <th>Co-Applicant_Income</th>\n",
       "      <th>Loan_Amount_Thousands</th>\n",
       "      <th>Loan_Term_Months</th>\n",
       "      <th>Credit_History_Requirements</th>\n",
       "      <th>Property_Area</th>\n",
       "      <th>App_Income_log1p</th>\n",
       "      <th>Co-App_Income_log1p</th>\n",
       "      <th>Loan_Amount_log1p</th>\n",
       "      <th>Co-Applicant</th>\n",
       "    </tr>\n",
       "  </thead>\n",
       "  <tbody>\n",
       "    <tr>\n",
       "      <th>1</th>\n",
       "      <td>1</td>\n",
       "      <td>1</td>\n",
       "      <td>1</td>\n",
       "      <td>1</td>\n",
       "      <td>0</td>\n",
       "      <td>4583.0</td>\n",
       "      <td>1508.0</td>\n",
       "      <td>128.0</td>\n",
       "      <td>360</td>\n",
       "      <td>1</td>\n",
       "      <td>3</td>\n",
       "      <td>8.430327</td>\n",
       "      <td>7.319202</td>\n",
       "      <td>4.859812</td>\n",
       "      <td>1</td>\n",
       "    </tr>\n",
       "    <tr>\n",
       "      <th>394</th>\n",
       "      <td>1</td>\n",
       "      <td>1</td>\n",
       "      <td>2</td>\n",
       "      <td>1</td>\n",
       "      <td>0</td>\n",
       "      <td>3100.0</td>\n",
       "      <td>1400.0</td>\n",
       "      <td>113.0</td>\n",
       "      <td>360</td>\n",
       "      <td>1</td>\n",
       "      <td>2</td>\n",
       "      <td>8.039480</td>\n",
       "      <td>7.244942</td>\n",
       "      <td>4.736198</td>\n",
       "      <td>1</td>\n",
       "    </tr>\n",
       "    <tr>\n",
       "      <th>316</th>\n",
       "      <td>1</td>\n",
       "      <td>1</td>\n",
       "      <td>2</td>\n",
       "      <td>1</td>\n",
       "      <td>0</td>\n",
       "      <td>3717.0</td>\n",
       "      <td>0.0</td>\n",
       "      <td>120.0</td>\n",
       "      <td>360</td>\n",
       "      <td>1</td>\n",
       "      <td>1</td>\n",
       "      <td>8.220941</td>\n",
       "      <td>0.000000</td>\n",
       "      <td>4.795791</td>\n",
       "      <td>0</td>\n",
       "    </tr>\n",
       "    <tr>\n",
       "      <th>62</th>\n",
       "      <td>1</td>\n",
       "      <td>1</td>\n",
       "      <td>0</td>\n",
       "      <td>0</td>\n",
       "      <td>1</td>\n",
       "      <td>2609.0</td>\n",
       "      <td>3449.0</td>\n",
       "      <td>165.0</td>\n",
       "      <td>180</td>\n",
       "      <td>0</td>\n",
       "      <td>3</td>\n",
       "      <td>7.867106</td>\n",
       "      <td>8.146130</td>\n",
       "      <td>5.111988</td>\n",
       "      <td>1</td>\n",
       "    </tr>\n",
       "    <tr>\n",
       "      <th>158</th>\n",
       "      <td>1</td>\n",
       "      <td>0</td>\n",
       "      <td>0</td>\n",
       "      <td>1</td>\n",
       "      <td>0</td>\n",
       "      <td>2980.0</td>\n",
       "      <td>2083.0</td>\n",
       "      <td>120.0</td>\n",
       "      <td>360</td>\n",
       "      <td>1</td>\n",
       "      <td>3</td>\n",
       "      <td>8.000014</td>\n",
       "      <td>7.642044</td>\n",
       "      <td>4.795791</td>\n",
       "      <td>1</td>\n",
       "    </tr>\n",
       "  </tbody>\n",
       "</table>\n",
       "</div>"
      ],
      "text/plain": [
       "     Gender  Married  Dependents  Education  Self_Employed  Applicant_Income  \\\n",
       "1         1        1           1          1              0            4583.0   \n",
       "394       1        1           2          1              0            3100.0   \n",
       "316       1        1           2          1              0            3717.0   \n",
       "62        1        1           0          0              1            2609.0   \n",
       "158       1        0           0          1              0            2980.0   \n",
       "\n",
       "     Co-Applicant_Income  Loan_Amount_Thousands  Loan_Term_Months  \\\n",
       "1                 1508.0                  128.0               360   \n",
       "394               1400.0                  113.0               360   \n",
       "316                  0.0                  120.0               360   \n",
       "62                3449.0                  165.0               180   \n",
       "158               2083.0                  120.0               360   \n",
       "\n",
       "     Credit_History_Requirements  Property_Area  App_Income_log1p  \\\n",
       "1                              1              3          8.430327   \n",
       "394                            1              2          8.039480   \n",
       "316                            1              1          8.220941   \n",
       "62                             0              3          7.867106   \n",
       "158                            1              3          8.000014   \n",
       "\n",
       "     Co-App_Income_log1p  Loan_Amount_log1p  Co-Applicant  \n",
       "1               7.319202           4.859812             1  \n",
       "394             7.244942           4.736198             1  \n",
       "316             0.000000           4.795791             0  \n",
       "62              8.146130           5.111988             1  \n",
       "158             7.642044           4.795791             1  "
      ]
     },
     "execution_count": 51,
     "metadata": {},
     "output_type": "execute_result"
    }
   ],
   "source": [
    "X_train.head()"
   ]
  },
  {
   "cell_type": "markdown",
   "metadata": {},
   "source": [
    "#### 4. Plotting transformed variables"
   ]
  },
  {
   "cell_type": "markdown",
   "metadata": {},
   "source": [
    "Plotting Applicant's Income and it's log transformation"
   ]
  },
  {
   "cell_type": "code",
   "execution_count": 52,
   "metadata": {},
   "outputs": [
    {
     "data": {
      "image/png": "[encoded data removed]",
      "text/plain": [
       "<Figure size 720x360 with 2 Axes>"
      ]
     },
     "metadata": {},
     "output_type": "display_data"
    }
   ],
   "source": [
    "# Specify the features of interest\n",
    "num_features = ['Applicant_Income', 'App_Income_log1p']\n",
    "xaxes = num_features\n",
    "yaxes = ['Counts', 'Counts']\n",
    "histogram(xaxes, yaxes, X_train, 10,5,1,'xkcd:blue green')"
   ]
  },
  {
   "cell_type": "markdown",
   "metadata": {},
   "source": [
    "Plotting Co-Applicant's Income and it's log transformation"
   ]
  },
  {
   "cell_type": "code",
   "execution_count": 53,
   "metadata": {},
   "outputs": [
    {
     "data": {
      "image/png": "[encoded data removed]",
      "text/plain": [
       "<Figure size 864x360 with 2 Axes>"
      ]
     },
     "metadata": {},
     "output_type": "display_data"
    }
   ],
   "source": [
    "# Specify the features of interest\n",
    "num_features = ['Co-Applicant_Income', 'Co-App_Income_log1p']\n",
    "xaxes = num_features\n",
    "yaxes = ['Counts', 'Counts']\n",
    "histogram(xaxes, yaxes, X_train, 12,5,1,'xkcd:blue green')"
   ]
  },
  {
   "cell_type": "markdown",
   "metadata": {},
   "source": [
    "Plotting Loan Amount and it's log transformation"
   ]
  },
  {
   "cell_type": "code",
   "execution_count": 54,
   "metadata": {},
   "outputs": [
    {
     "data": {
      "image/png": "[encoded data removed]",
      "text/plain": [
       "<Figure size 720x360 with 2 Axes>"
      ]
     },
     "metadata": {},
     "output_type": "display_data"
    }
   ],
   "source": [
    "# Specify the features of interest\n",
    "num_features = ['Loan_Amount_Thousands', 'Loan_Amount_log1p']\n",
    "xaxes = num_features\n",
    "yaxes = ['Counts', 'Counts']\n",
    "histogram(xaxes, yaxes, X_train, 10,5,1,'xkcd:blue green')"
   ]
  },
  {
   "cell_type": "markdown",
   "metadata": {},
   "source": [
    "Plotting Co-Applicant vs. Approval bar graph"
   ]
  },
  {
   "cell_type": "code",
   "execution_count": 56,
   "metadata": {
    "scrolled": true
   },
   "outputs": [
    {
     "data": {
      "image/png": "[encoded data removed]",
      "text/plain": [
       "<Figure size 720x360 with 1 Axes>"
      ]
     },
     "metadata": {},
     "output_type": "display_data"
    }
   ],
   "source": [
    "# set figure size\n",
    "plt.rcParams['figure.figsize'] = (10, 5)\n",
    "\n",
    "sns.countplot(x='Co-Applicant',data=X_train,hue=Y_train)\n",
    "plt.show()"
   ]
  },
  {
   "cell_type": "markdown",
   "metadata": {},
   "source": [
    "Loan_Term is indeed categorical data type with numerical values."
   ]
  },
  {
   "cell_type": "markdown",
   "metadata": {},
   "source": [
    "Applicants with Co-applicant are more likely to get approved for the loan compared to applicants with no co-applicant. All the log transformed variables are approximately normal except co-applicant’s income, it has lot of 0’s indicating no applicant. Loan term with 360 months are more likely to get approved compared to other terms"
   ]
  },
  {
   "cell_type": "markdown",
   "metadata": {},
   "source": [
    "#### 5. Dimensionality reduction"
   ]
  },
  {
   "cell_type": "markdown",
   "metadata": {},
   "source": [
    "For Dimensionality reduction I will be creating 2 main data frames from original data frame: df_cat with numerical variables turned into categorical and df_num with all Boolean, Nominal numeric and continuous variables."
   ]
  },
  {
   "cell_type": "markdown",
   "metadata": {},
   "source": [
    "#####    Converting Numerical variables into categorical"
   ]
  },
  {
   "cell_type": "code",
   "execution_count": 57,
   "metadata": {},
   "outputs": [],
   "source": [
    "train_copy = X_train.copy()\n",
    "val_copy = X_val.copy()"
   ]
  },
  {
   "cell_type": "markdown",
   "metadata": {},
   "source": [
    "I converted numerical variables ‘App_Income_log1p’, ‘Co-App_Income_log1p’, ‘Loan_Amount_log1p’ by binning them into their percentile bins (below 25th, 26-50th, 51-75th and 75th above). I did this so I can use chi-square test for feature selection."
   ]
  },
  {
   "cell_type": "code",
   "execution_count": 58,
   "metadata": {},
   "outputs": [],
   "source": [
    "def numerical_to_categorical(variable):\n",
    "    bins = []\n",
    "    Min = variable.min()\n",
    "    Twenty5 = np.percentile(variable, 25)\n",
    "    Fifty = np.percentile(variable, 50)\n",
    "    Seventy5 = np.percentile(variable, 75)\n",
    "    Max = variable.max()\n",
    "    bins.append(Min)\n",
    "    bins.append(Twenty5)\n",
    "    bins.append(Fifty)\n",
    "    bins.append(Seventy5)\n",
    "    bins.append(Max)\n",
    "    return bins"
   ]
  },
  {
   "cell_type": "markdown",
   "metadata": {},
   "source": [
    "Adding columns for groups for continous variables"
   ]
  },
  {
   "cell_type": "code",
   "execution_count": 59,
   "metadata": {},
   "outputs": [],
   "source": [
    "#add a new column category next to the Applicant_Income group.\n",
    "bins = numerical_to_categorical(train_copy['App_Income_log1p'])\n",
    "category1 = pd.cut(train_copy['App_Income_log1p'],bins=bins,labels=['below_25th_percentile','26th-50th_percentile','51th-75th_percentile','above_75th_percentile'])\n",
    "train_copy.insert(12,'App_Log_Income_Group',category1)"
   ]
  },
  {
   "cell_type": "code",
   "execution_count": 60,
   "metadata": {},
   "outputs": [],
   "source": [
    "#add a new column category next to the Applicant_Income group.\n",
    "bins = numerical_to_categorical(val_copy['App_Income_log1p'])\n",
    "category1 = pd.cut(val_copy['App_Income_log1p'],bins=bins,labels=['below_25th_percentile','26th-50th_percentile','51th-75th_percentile','above_75th_percentile'])\n",
    "val_copy.insert(12,'App_Log_Income_Group',category1)"
   ]
  },
  {
   "cell_type": "code",
   "execution_count": 61,
   "metadata": {},
   "outputs": [
    {
     "data": {
      "text/plain": [
       "array([370], dtype=int64)"
      ]
     },
     "execution_count": 61,
     "metadata": {},
     "output_type": "execute_result"
    }
   ],
   "source": [
    "np.where(train_copy['App_Log_Income_Group'].isnull() == True)[0]"
   ]
  },
  {
   "cell_type": "code",
   "execution_count": 62,
   "metadata": {},
   "outputs": [
    {
     "data": {
      "text/plain": [
       "array([143], dtype=int64)"
      ]
     },
     "execution_count": 62,
     "metadata": {},
     "output_type": "execute_result"
    }
   ],
   "source": [
    "np.where(val_copy['App_Log_Income_Group'].isnull() == True)[0]"
   ]
  },
  {
   "cell_type": "code",
   "execution_count": 63,
   "metadata": {},
   "outputs": [],
   "source": [
    "train_copy['App_Log_Income_Group']= train_copy['App_Log_Income_Group'].fillna('below_25th_percentile')\n",
    "val_copy['App_Log_Income_Group']= val_copy['App_Log_Income_Group'].fillna('below_25th_percentile')"
   ]
  },
  {
   "cell_type": "code",
   "execution_count": 64,
   "metadata": {},
   "outputs": [
    {
     "data": {
      "text/plain": [
       "False    460\n",
       "Name: App_Log_Income_Group, dtype: int64"
      ]
     },
     "execution_count": 64,
     "metadata": {},
     "output_type": "execute_result"
    }
   ],
   "source": [
    "train_copy['App_Log_Income_Group'].isnull().value_counts()"
   ]
  },
  {
   "cell_type": "markdown",
   "metadata": {},
   "source": [
    "Because there were lot of 0 applicants, we took 0 out and calculated the percentiles for income. "
   ]
  },
  {
   "cell_type": "code",
   "execution_count": 65,
   "metadata": {},
   "outputs": [],
   "source": [
    "#add a new column category next to the  Co-Applicant_Income group. \n",
    "df1 =train_copy[train_copy['Co-App_Income_log1p'] !=0]\n",
    "bins = numerical_to_categorical(df1['Co-App_Income_log1p'])\n",
    "category2 = pd.cut(train_copy['Co-App_Income_log1p'],bins=bins,labels=['below_25th_percentile','26th-50th_percentile','51th-75th_percentile','above_75th_percentile'])\n",
    "train_copy.insert(14,'Co-App_Log_Income_Group',category2)"
   ]
  },
  {
   "cell_type": "code",
   "execution_count": 66,
   "metadata": {},
   "outputs": [
    {
     "data": {
      "text/plain": [
       "array([  2,   8,  10,  12,  13,  22,  26,  29,  30,  31,  33,  34,  35,\n",
       "        36,  38,  40,  41,  51,  54,  55,  56,  60,  62,  63,  66,  67,\n",
       "        70,  75,  77,  79,  80,  81,  83,  84,  87,  91,  92,  93,  96,\n",
       "        97,  98, 101, 102, 103, 104, 106, 112, 113, 115, 116, 119, 121,\n",
       "       124, 125, 130, 133, 134, 136, 137, 138, 139, 142, 143, 145, 147,\n",
       "       152, 153, 154, 157, 159, 160, 164, 165, 168, 170, 173, 175, 176,\n",
       "       177, 180, 181, 182, 183, 184, 185, 188, 194, 198, 201, 203, 204,\n",
       "       205, 206, 208, 211, 216, 219, 222, 223, 224, 225, 226, 228, 230,\n",
       "       232, 233, 236, 237, 238, 240, 241, 243, 246, 250, 251, 255, 256,\n",
       "       259, 265, 266, 271, 272, 274, 275, 277, 279, 281, 286, 288, 291,\n",
       "       294, 295, 297, 299, 301, 307, 308, 309, 310, 313, 317, 318, 319,\n",
       "       320, 321, 322, 323, 326, 327, 328, 330, 332, 333, 340, 341, 343,\n",
       "       345, 349, 350, 353, 355, 361, 362, 364, 366, 367, 369, 373, 374,\n",
       "       375, 380, 383, 384, 387, 388, 394, 395, 396, 397, 398, 399, 400,\n",
       "       401, 407, 408, 409, 411, 414, 418, 419, 423, 424, 425, 426, 428,\n",
       "       430, 431, 439, 441, 444, 447, 448, 449, 450, 452, 456], dtype=int64)"
      ]
     },
     "execution_count": 66,
     "metadata": {},
     "output_type": "execute_result"
    }
   ],
   "source": [
    "np.where(train_copy['Co-App_Log_Income_Group'].isnull() == True)[0]"
   ]
  },
  {
   "cell_type": "code",
   "execution_count": 67,
   "metadata": {},
   "outputs": [
    {
     "data": {
      "text/plain": [
       "[5.247024072160486,\n",
       " 7.396026191539111,\n",
       " 7.650168700845001,\n",
       " 8.060855752934316,\n",
       " 10.637488727104339]"
      ]
     },
     "execution_count": 67,
     "metadata": {},
     "output_type": "execute_result"
    }
   ],
   "source": [
    "bins"
   ]
  },
  {
   "cell_type": "code",
   "execution_count": 68,
   "metadata": {},
   "outputs": [],
   "source": [
    "for i, rows in train_copy.iterrows():\n",
    "    if train_copy.at[i, 'Co-App_Income_log1p'] == 5.247024072160486:\n",
    "        train_copy.at[i, 'Co-App_Log_Income_Group'] = 'below_25th_percentile'\n",
    "    else:\n",
    "        None"
   ]
  },
  {
   "cell_type": "code",
   "execution_count": 69,
   "metadata": {},
   "outputs": [
    {
     "data": {
      "text/plain": [
       "False    255\n",
       "True     205\n",
       "Name: Co-App_Log_Income_Group, dtype: int64"
      ]
     },
     "execution_count": 69,
     "metadata": {},
     "output_type": "execute_result"
    }
   ],
   "source": [
    "train_copy['Co-App_Log_Income_Group'].isnull().value_counts()"
   ]
  },
  {
   "cell_type": "code",
   "execution_count": 70,
   "metadata": {},
   "outputs": [],
   "source": [
    "#add a new column category next to the  Co-Applicant_Income group. \n",
    "df1 =val_copy[val_copy['Co-App_Income_log1p'] !=0]\n",
    "bins = numerical_to_categorical(df1['Co-App_Income_log1p'])\n",
    "category2 = pd.cut(val_copy['Co-App_Income_log1p'],bins=bins,labels=['below_25th_percentile','26th-50th_percentile','51th-75th_percentile','above_75th_percentile'])\n",
    "val_copy.insert(14,'Co-App_Log_Income_Group',category2)"
   ]
  },
  {
   "cell_type": "code",
   "execution_count": 71,
   "metadata": {},
   "outputs": [
    {
     "data": {
      "text/plain": [
       "array([  0,   1,   4,   5,   7,   8,   9,  11,  12,  13,  14,  18,  19,\n",
       "        20,  21,  22,  23,  24,  28,  32,  33,  40,  42,  44,  46,  49,\n",
       "        51,  53,  58,  61,  62,  66,  67,  69,  70,  71,  73,  74,  76,\n",
       "        77,  78,  80,  82,  83,  85,  87,  89,  90,  91,  92,  93,  97,\n",
       "        99, 102, 106, 107, 112, 114, 119, 123, 126, 127, 132, 134, 137,\n",
       "       140, 141, 151, 153], dtype=int64)"
      ]
     },
     "execution_count": 71,
     "metadata": {},
     "output_type": "execute_result"
    }
   ],
   "source": [
    "np.where(val_copy['Co-App_Log_Income_Group'].isnull() == True)[0]"
   ]
  },
  {
   "cell_type": "code",
   "execution_count": 72,
   "metadata": {},
   "outputs": [
    {
     "data": {
      "text/plain": [
       "[2.8402474197790153,\n",
       " 7.467205990531985,\n",
       " 7.767434247838075,\n",
       " 8.08217009213431,\n",
       " 10.429339710318741]"
      ]
     },
     "execution_count": 72,
     "metadata": {},
     "output_type": "execute_result"
    }
   ],
   "source": [
    "bins"
   ]
  },
  {
   "cell_type": "code",
   "execution_count": 73,
   "metadata": {},
   "outputs": [],
   "source": [
    "for i, rows in val_copy.iterrows():\n",
    "    if val_copy.at[i, 'Co-App_Income_log1p'] == 2.8402474197790153:\n",
    "        val_copy.at[i, 'Co-App_Log_Income_Group'] = 'below_25th_percentile'\n",
    "    else:\n",
    "        None"
   ]
  },
  {
   "cell_type": "code",
   "execution_count": 74,
   "metadata": {},
   "outputs": [
    {
     "data": {
      "text/plain": [
       "False    86\n",
       "True     68\n",
       "Name: Co-App_Log_Income_Group, dtype: int64"
      ]
     },
     "execution_count": 74,
     "metadata": {},
     "output_type": "execute_result"
    }
   ],
   "source": [
    "val_copy['Co-App_Log_Income_Group'].isnull().value_counts()"
   ]
  },
  {
   "cell_type": "code",
   "execution_count": 75,
   "metadata": {},
   "outputs": [],
   "source": [
    "#add a new column category next to the loan_amount_group. \n",
    "bins = numerical_to_categorical(train_copy['Loan_Amount_log1p'])\n",
    "category3 = pd.cut(train_copy['Loan_Amount_log1p'],bins=bins,labels=['below_25th_percentile','26th-50th_percentile','51th-75th_percentile','above_75th_percentile'])\n",
    "train_copy.insert(16,'Loan_Log_Amount_Group',category3)"
   ]
  },
  {
   "cell_type": "code",
   "execution_count": 76,
   "metadata": {},
   "outputs": [
    {
     "data": {
      "text/plain": [
       "array([225], dtype=int64)"
      ]
     },
     "execution_count": 76,
     "metadata": {},
     "output_type": "execute_result"
    }
   ],
   "source": [
    "np.where(train_copy['Loan_Log_Amount_Group'].isnull() == True)[0]"
   ]
  },
  {
   "cell_type": "code",
   "execution_count": 77,
   "metadata": {},
   "outputs": [],
   "source": [
    "train_copy['Loan_Log_Amount_Group']= train_copy['Loan_Log_Amount_Group'].fillna('below_25th_percentile')"
   ]
  },
  {
   "cell_type": "code",
   "execution_count": 78,
   "metadata": {},
   "outputs": [
    {
     "data": {
      "text/plain": [
       "(460, 18)"
      ]
     },
     "execution_count": 78,
     "metadata": {},
     "output_type": "execute_result"
    }
   ],
   "source": [
    "train_copy.shape"
   ]
  },
  {
   "cell_type": "code",
   "execution_count": 79,
   "metadata": {},
   "outputs": [],
   "source": [
    "# converting features\n",
    "cat_features = ['Gender','Married','Dependents','Education','Self_Employed','Credit_History_Requirements','Property_Area','Co-Applicant', 'App_Log_Income_Group', 'Co-App_Log_Income_Group', 'Loan_Log_Amount_Group', 'Loan_Term_Months']\n",
    "train_copy = train_copy.replace({'Co-Applicant': {'Yes': 1, 'No': 0}, 'App_Log_Income_Group': {'below_25th_percentile': 1,'26th-50th_percentile': 2,'51th-75th_percentile': 3,'above_75th_percentile': 4},\n",
    "                         'Co-App_Log_Income_Group': {'below_25th_percentile': 1,'26th-50th_percentile': 2,'51th-75th_percentile': 3,'above_75th_percentile': 4},\n",
    "                         'Loan_Log_Amount_Group': {'below_25th_percentile': 1,'26th-50th_percentile': 2,'51th-75th_percentile': 3,'above_75th_percentile': 4}})\n",
    "df_cat = train_copy[cat_features]"
   ]
  },
  {
   "cell_type": "code",
   "execution_count": 80,
   "metadata": {},
   "outputs": [],
   "source": [
    "# converting categorical into integer\n",
    "df_cat['Co-App_Log_Income_Group']= df_cat['Co-App_Log_Income_Group'].fillna(0)\n",
    "df_cat['Co-App_Log_Income_Group']= df_cat['Co-App_Log_Income_Group'].astype(int)\n",
    "\n",
    "\n",
    "df_cat['App_Log_Income_Group']= df_cat['App_Log_Income_Group'].astype(int)\n",
    "df_cat['Loan_Log_Amount_Group']= df_cat['Loan_Log_Amount_Group'].astype(int)"
   ]
  },
  {
   "cell_type": "code",
   "execution_count": 81,
   "metadata": {},
   "outputs": [],
   "source": [
    "df_cat['Dependents']= df_cat['Dependents'].astype(int)\n",
    "df_cat['Loan_Term_Months'] = df_cat['Loan_Term_Months'].astype(int)"
   ]
  },
  {
   "cell_type": "code",
   "execution_count": 82,
   "metadata": {},
   "outputs": [
    {
     "data": {
      "text/plain": [
       "(460, 12)"
      ]
     },
     "execution_count": 82,
     "metadata": {},
     "output_type": "execute_result"
    }
   ],
   "source": [
    "df_cat.shape"
   ]
  },
  {
   "cell_type": "code",
   "execution_count": 83,
   "metadata": {},
   "outputs": [],
   "source": [
    "# subset without the Quantitative variables\n",
    "subset_cat = df_cat.drop(columns=['App_Log_Income_Group', 'Co-App_Log_Income_Group','Loan_Log_Amount_Group'])"
   ]
  },
  {
   "cell_type": "markdown",
   "metadata": {},
   "source": [
    "Created data frame **df_cat** with 12 variables and data frame **subset_cat** with 9 variables (exclusing ‘App_Log_Income_Group’, ‘Co-App_Log_Income_Group’ and ‘Loan_Log_Amount_Group’)."
   ]
  },
  {
   "cell_type": "markdown",
   "metadata": {},
   "source": [
    "Converting categorical variables into integers\n",
    "1. Gender: Male = 1, Female = 0\n",
    "2. Married: Yes = 1, No = 0\n",
    "3. Education: Graduate = 1, Not Graduate = 0,\n",
    "4. Self_Employed: Yes = 1, No = 0,\n",
    "5. Credit_History_Requirements: Yes = 1, No = 0,\n",
    "6. Co-Applicant: Yes = 1, No = 0\n",
    "7. Dependents: 1 = 1, 0 = 0, 2 = 2 and 3+ = 3\n",
    "8. Property_Area: Semiurban = 1, Urban = 2, Rural = 3\n",
    "9. App_Log_Income_Group: below_25th_percentile = 1, 26th-50th_percentile = 2, 51th-75th_percentile = 3, above_75th_percentile = 4\n",
    "10. Co-App_Log_Income_Group: no_applicants = 0, below_25th_percentile = 1, 26th-50th_percentile = 2, 51th-75th_percentile = 3, above_75th_percentile = 4\n",
    "11. Loan_Log_Amount_Group: below_25th_percentile = 1, 26th-50th_percentile = 2, 51th-75th_percentile = 3, above_75th_percentile = 4\n",
    "12. Loan_Term_Months: 36, 60, 84, 120, 180, 240, 300, 360, and 480 are the categories"
   ]
  },
  {
   "cell_type": "markdown",
   "metadata": {},
   "source": [
    "#####    Converting categorical variables into Boolean variables, adding numerical variables and identifying nominal variable"
   ]
  },
  {
   "cell_type": "code",
   "execution_count": 84,
   "metadata": {},
   "outputs": [
    {
     "data": {
      "text/html": [
       "<div>\n",
       "<style scoped>\n",
       "    .dataframe tbody tr th:only-of-type {\n",
       "        vertical-align: middle;\n",
       "    }\n",
       "\n",
       "    .dataframe tbody tr th {\n",
       "        vertical-align: top;\n",
       "    }\n",
       "\n",
       "    .dataframe thead th {\n",
       "        text-align: right;\n",
       "    }\n",
       "</style>\n",
       "<table border=\"1\" class=\"dataframe\">\n",
       "  <thead>\n",
       "    <tr style=\"text-align: right;\">\n",
       "      <th></th>\n",
       "      <th>Gender</th>\n",
       "      <th>Married</th>\n",
       "      <th>Dependents</th>\n",
       "      <th>Education</th>\n",
       "      <th>Self_Employed</th>\n",
       "      <th>Applicant_Income</th>\n",
       "      <th>Co-Applicant_Income</th>\n",
       "      <th>Loan_Amount_Thousands</th>\n",
       "      <th>Loan_Term_Months</th>\n",
       "      <th>Credit_History_Requirements</th>\n",
       "      <th>Property_Area</th>\n",
       "      <th>App_Income_log1p</th>\n",
       "      <th>App_Log_Income_Group</th>\n",
       "      <th>Co-App_Income_log1p</th>\n",
       "      <th>Co-App_Log_Income_Group</th>\n",
       "      <th>Loan_Amount_log1p</th>\n",
       "      <th>Loan_Log_Amount_Group</th>\n",
       "      <th>Co-Applicant</th>\n",
       "    </tr>\n",
       "  </thead>\n",
       "  <tbody>\n",
       "    <tr>\n",
       "      <th>1</th>\n",
       "      <td>1</td>\n",
       "      <td>1</td>\n",
       "      <td>1</td>\n",
       "      <td>1</td>\n",
       "      <td>0</td>\n",
       "      <td>4583.0</td>\n",
       "      <td>1508.0</td>\n",
       "      <td>128.0</td>\n",
       "      <td>360</td>\n",
       "      <td>1</td>\n",
       "      <td>3</td>\n",
       "      <td>8.430327</td>\n",
       "      <td>3</td>\n",
       "      <td>7.319202</td>\n",
       "      <td>1.0</td>\n",
       "      <td>4.859812</td>\n",
       "      <td>2</td>\n",
       "      <td>1</td>\n",
       "    </tr>\n",
       "    <tr>\n",
       "      <th>394</th>\n",
       "      <td>1</td>\n",
       "      <td>1</td>\n",
       "      <td>2</td>\n",
       "      <td>1</td>\n",
       "      <td>0</td>\n",
       "      <td>3100.0</td>\n",
       "      <td>1400.0</td>\n",
       "      <td>113.0</td>\n",
       "      <td>360</td>\n",
       "      <td>1</td>\n",
       "      <td>2</td>\n",
       "      <td>8.039480</td>\n",
       "      <td>2</td>\n",
       "      <td>7.244942</td>\n",
       "      <td>1.0</td>\n",
       "      <td>4.736198</td>\n",
       "      <td>2</td>\n",
       "      <td>1</td>\n",
       "    </tr>\n",
       "    <tr>\n",
       "      <th>316</th>\n",
       "      <td>1</td>\n",
       "      <td>1</td>\n",
       "      <td>2</td>\n",
       "      <td>1</td>\n",
       "      <td>0</td>\n",
       "      <td>3717.0</td>\n",
       "      <td>0.0</td>\n",
       "      <td>120.0</td>\n",
       "      <td>360</td>\n",
       "      <td>1</td>\n",
       "      <td>1</td>\n",
       "      <td>8.220941</td>\n",
       "      <td>2</td>\n",
       "      <td>0.000000</td>\n",
       "      <td>NaN</td>\n",
       "      <td>4.795791</td>\n",
       "      <td>2</td>\n",
       "      <td>0</td>\n",
       "    </tr>\n",
       "  </tbody>\n",
       "</table>\n",
       "</div>"
      ],
      "text/plain": [
       "     Gender  Married  Dependents  Education  Self_Employed  Applicant_Income  \\\n",
       "1         1        1           1          1              0            4583.0   \n",
       "394       1        1           2          1              0            3100.0   \n",
       "316       1        1           2          1              0            3717.0   \n",
       "\n",
       "     Co-Applicant_Income  Loan_Amount_Thousands  Loan_Term_Months  \\\n",
       "1                 1508.0                  128.0               360   \n",
       "394               1400.0                  113.0               360   \n",
       "316                  0.0                  120.0               360   \n",
       "\n",
       "     Credit_History_Requirements  Property_Area  App_Income_log1p  \\\n",
       "1                              1              3          8.430327   \n",
       "394                            1              2          8.039480   \n",
       "316                            1              1          8.220941   \n",
       "\n",
       "     App_Log_Income_Group  Co-App_Income_log1p  Co-App_Log_Income_Group  \\\n",
       "1                       3             7.319202                      1.0   \n",
       "394                     2             7.244942                      1.0   \n",
       "316                     2             0.000000                      NaN   \n",
       "\n",
       "     Loan_Amount_log1p  Loan_Log_Amount_Group  Co-Applicant  \n",
       "1             4.859812                      2             1  \n",
       "394           4.736198                      2             1  \n",
       "316           4.795791                      2             0  "
      ]
     },
     "execution_count": 84,
     "metadata": {},
     "output_type": "execute_result"
    }
   ],
   "source": [
    "train_copy.head(3)"
   ]
  },
  {
   "cell_type": "code",
   "execution_count": 85,
   "metadata": {},
   "outputs": [],
   "source": [
    "# subset for only numerical values such as Income and loan amount\n",
    "num_features = ['App_Income_log1p','Co-App_Income_log1p', 'Loan_Amount_log1p']\n",
    "subset_num = train_copy[num_features]"
   ]
  },
  {
   "cell_type": "code",
   "execution_count": 86,
   "metadata": {},
   "outputs": [
    {
     "data": {
      "text/plain": [
       "(460, 12)"
      ]
     },
     "execution_count": 86,
     "metadata": {},
     "output_type": "execute_result"
    }
   ],
   "source": [
    "df_num = pd.concat([subset_cat,subset_num],axis=1)\n",
    "df_num.shape"
   ]
  },
  {
   "cell_type": "markdown",
   "metadata": {},
   "source": [
    "I created **subset_num** data frame with only continuous variables 'App_Income_log1p','Co-App_Income_log1p', 'Loan_Amount_log1p' and created **df_num** with all continuous variables and discrete variables."
   ]
  },
  {
   "cell_type": "code",
   "execution_count": 87,
   "metadata": {},
   "outputs": [],
   "source": [
    "# converting target\n",
    "target = Y_train.replace({'Y': 1, 'N':0})"
   ]
  },
  {
   "cell_type": "code",
   "execution_count": 88,
   "metadata": {},
   "outputs": [],
   "source": [
    "# load libraries\n",
    "from sklearn.feature_selection import SelectKBest\n",
    "from sklearn.feature_selection import chi2, f_classif, mutual_info_classif\n",
    "from functools import partial\n",
    "\n",
    "from sklearn.preprocessing import StandardScaler\n",
    "from sklearn.decomposition import PCA\n"
   ]
  },
  {
   "cell_type": "code",
   "execution_count": 89,
   "metadata": {},
   "outputs": [],
   "source": [
    "def FeatureSelector(df, y, score_func, k):\n",
    "    \n",
    "    # apply SelectKBest class to extract top features from categorical variables only \n",
    "    feature_selector = SelectKBest(score_func=score_func, k=k)\n",
    "    features_kbest = feature_selector.fit(df,y)\n",
    "\n",
    "    dfscores = pd.DataFrame(features_kbest.scores_)\n",
    "    dfcolumns = pd.DataFrame(df.columns)\n",
    "\n",
    "    #concat two dataframes for better visualization \n",
    "    featureScores = pd.concat([dfcolumns,dfscores],axis=1)\n",
    "    featureScores.columns = ['Features','Score']  #naming the dataframe columns\n",
    "    top_feature = featureScores.nlargest(k,'Score')  # best features\n",
    "    return top_feature"
   ]
  },
  {
   "cell_type": "markdown",
   "metadata": {},
   "source": [
    "##### Feature Selection: Chi-Square Method"
   ]
  },
  {
   "cell_type": "markdown",
   "metadata": {},
   "source": [
    "Top 7 with App_Log_Income_Group, App_Log_Income_Group, and Loan_Amount_Group variables."
   ]
  },
  {
   "cell_type": "code",
   "execution_count": 98,
   "metadata": {},
   "outputs": [
    {
     "data": {
      "text/html": [
       "<div>\n",
       "<style scoped>\n",
       "    .dataframe tbody tr th:only-of-type {\n",
       "        vertical-align: middle;\n",
       "    }\n",
       "\n",
       "    .dataframe tbody tr th {\n",
       "        vertical-align: top;\n",
       "    }\n",
       "\n",
       "    .dataframe thead th {\n",
       "        text-align: right;\n",
       "    }\n",
       "</style>\n",
       "<table border=\"1\" class=\"dataframe\">\n",
       "  <thead>\n",
       "    <tr style=\"text-align: right;\">\n",
       "      <th></th>\n",
       "      <th>Features</th>\n",
       "      <th>Score</th>\n",
       "    </tr>\n",
       "  </thead>\n",
       "  <tbody>\n",
       "    <tr>\n",
       "      <th>5</th>\n",
       "      <td>Credit_History_Requirements</td>\n",
       "      <td>15.415886</td>\n",
       "    </tr>\n",
       "    <tr>\n",
       "      <th>6</th>\n",
       "      <td>Property_Area</td>\n",
       "      <td>3.805272</td>\n",
       "    </tr>\n",
       "    <tr>\n",
       "      <th>11</th>\n",
       "      <td>Loan_Term_Months</td>\n",
       "      <td>2.620551</td>\n",
       "    </tr>\n",
       "    <tr>\n",
       "      <th>7</th>\n",
       "      <td>Co-Applicant</td>\n",
       "      <td>1.760707</td>\n",
       "    </tr>\n",
       "    <tr>\n",
       "      <th>2</th>\n",
       "      <td>Dependents</td>\n",
       "      <td>1.320029</td>\n",
       "    </tr>\n",
       "  </tbody>\n",
       "</table>\n",
       "</div>"
      ],
      "text/plain": [
       "                       Features      Score\n",
       "5   Credit_History_Requirements  15.415886\n",
       "6                 Property_Area   3.805272\n",
       "11             Loan_Term_Months   2.620551\n",
       "7                  Co-Applicant   1.760707\n",
       "2                    Dependents   1.320029"
      ]
     },
     "execution_count": 98,
     "metadata": {},
     "output_type": "execute_result"
    }
   ],
   "source": [
    "top = FeatureSelector(df_cat, target, chi2, 5)\n",
    "top"
   ]
  },
  {
   "cell_type": "markdown",
   "metadata": {},
   "source": [
    "Top 7 without App_Log_Income_Group, App_Log_Income_Group, and Loan_Amount_Group variables."
   ]
  },
  {
   "cell_type": "code",
   "execution_count": 99,
   "metadata": {},
   "outputs": [
    {
     "data": {
      "text/html": [
       "<div>\n",
       "<style scoped>\n",
       "    .dataframe tbody tr th:only-of-type {\n",
       "        vertical-align: middle;\n",
       "    }\n",
       "\n",
       "    .dataframe tbody tr th {\n",
       "        vertical-align: top;\n",
       "    }\n",
       "\n",
       "    .dataframe thead th {\n",
       "        text-align: right;\n",
       "    }\n",
       "</style>\n",
       "<table border=\"1\" class=\"dataframe\">\n",
       "  <thead>\n",
       "    <tr style=\"text-align: right;\">\n",
       "      <th></th>\n",
       "      <th>Features</th>\n",
       "      <th>Score</th>\n",
       "    </tr>\n",
       "  </thead>\n",
       "  <tbody>\n",
       "    <tr>\n",
       "      <th>5</th>\n",
       "      <td>Credit_History_Requirements</td>\n",
       "      <td>15.415886</td>\n",
       "    </tr>\n",
       "    <tr>\n",
       "      <th>6</th>\n",
       "      <td>Property_Area</td>\n",
       "      <td>3.805272</td>\n",
       "    </tr>\n",
       "    <tr>\n",
       "      <th>8</th>\n",
       "      <td>Loan_Term_Months</td>\n",
       "      <td>2.620551</td>\n",
       "    </tr>\n",
       "    <tr>\n",
       "      <th>7</th>\n",
       "      <td>Co-Applicant</td>\n",
       "      <td>1.760707</td>\n",
       "    </tr>\n",
       "    <tr>\n",
       "      <th>2</th>\n",
       "      <td>Dependents</td>\n",
       "      <td>1.320029</td>\n",
       "    </tr>\n",
       "  </tbody>\n",
       "</table>\n",
       "</div>"
      ],
      "text/plain": [
       "                      Features      Score\n",
       "5  Credit_History_Requirements  15.415886\n",
       "6                Property_Area   3.805272\n",
       "8             Loan_Term_Months   2.620551\n",
       "7                 Co-Applicant   1.760707\n",
       "2                   Dependents   1.320029"
      ]
     },
     "execution_count": 99,
     "metadata": {},
     "output_type": "execute_result"
    }
   ],
   "source": [
    "top = FeatureSelector(subset_cat, target, chi2, 5)\n",
    "top"
   ]
  },
  {
   "cell_type": "markdown",
   "metadata": {},
   "source": [
    "##### Feature Selection: ANOVA F-value statistic"
   ]
  },
  {
   "cell_type": "code",
   "execution_count": 100,
   "metadata": {},
   "outputs": [
    {
     "data": {
      "text/html": [
       "<div>\n",
       "<style scoped>\n",
       "    .dataframe tbody tr th:only-of-type {\n",
       "        vertical-align: middle;\n",
       "    }\n",
       "\n",
       "    .dataframe tbody tr th {\n",
       "        vertical-align: top;\n",
       "    }\n",
       "\n",
       "    .dataframe thead th {\n",
       "        text-align: right;\n",
       "    }\n",
       "</style>\n",
       "<table border=\"1\" class=\"dataframe\">\n",
       "  <thead>\n",
       "    <tr style=\"text-align: right;\">\n",
       "      <th></th>\n",
       "      <th>Features</th>\n",
       "      <th>Score</th>\n",
       "    </tr>\n",
       "  </thead>\n",
       "  <tbody>\n",
       "    <tr>\n",
       "      <th>5</th>\n",
       "      <td>Credit_History_Requirements</td>\n",
       "      <td>148.378848</td>\n",
       "    </tr>\n",
       "    <tr>\n",
       "      <th>6</th>\n",
       "      <td>Property_Area</td>\n",
       "      <td>11.117010</td>\n",
       "    </tr>\n",
       "    <tr>\n",
       "      <th>3</th>\n",
       "      <td>Education</td>\n",
       "      <td>4.484574</td>\n",
       "    </tr>\n",
       "    <tr>\n",
       "      <th>7</th>\n",
       "      <td>Co-Applicant</td>\n",
       "      <td>3.967756</td>\n",
       "    </tr>\n",
       "    <tr>\n",
       "      <th>10</th>\n",
       "      <td>Co-App_Income_log1p</td>\n",
       "      <td>3.009139</td>\n",
       "    </tr>\n",
       "  </tbody>\n",
       "</table>\n",
       "</div>"
      ],
      "text/plain": [
       "                       Features       Score\n",
       "5   Credit_History_Requirements  148.378848\n",
       "6                 Property_Area   11.117010\n",
       "3                     Education    4.484574\n",
       "7                  Co-Applicant    3.967756\n",
       "10          Co-App_Income_log1p    3.009139"
      ]
     },
     "execution_count": 100,
     "metadata": {},
     "output_type": "execute_result"
    }
   ],
   "source": [
    "top =  FeatureSelector(df_num, target, f_classif, 5)\n",
    "top"
   ]
  },
  {
   "cell_type": "markdown",
   "metadata": {},
   "source": [
    "Almost same as Chi-Square results, top 4 matches."
   ]
  },
  {
   "cell_type": "code",
   "execution_count": 93,
   "metadata": {},
   "outputs": [
    {
     "data": {
      "text/html": [
       "<div>\n",
       "<style scoped>\n",
       "    .dataframe tbody tr th:only-of-type {\n",
       "        vertical-align: middle;\n",
       "    }\n",
       "\n",
       "    .dataframe tbody tr th {\n",
       "        vertical-align: top;\n",
       "    }\n",
       "\n",
       "    .dataframe thead th {\n",
       "        text-align: right;\n",
       "    }\n",
       "</style>\n",
       "<table border=\"1\" class=\"dataframe\">\n",
       "  <thead>\n",
       "    <tr style=\"text-align: right;\">\n",
       "      <th></th>\n",
       "      <th>Features</th>\n",
       "      <th>Score</th>\n",
       "    </tr>\n",
       "  </thead>\n",
       "  <tbody>\n",
       "    <tr>\n",
       "      <th>1</th>\n",
       "      <td>Co-App_Income_log1p</td>\n",
       "      <td>3.009139</td>\n",
       "    </tr>\n",
       "    <tr>\n",
       "      <th>0</th>\n",
       "      <td>App_Income_log1p</td>\n",
       "      <td>0.092239</td>\n",
       "    </tr>\n",
       "  </tbody>\n",
       "</table>\n",
       "</div>"
      ],
      "text/plain": [
       "              Features     Score\n",
       "1  Co-App_Income_log1p  3.009139\n",
       "0     App_Income_log1p  0.092239"
      ]
     },
     "execution_count": 93,
     "metadata": {},
     "output_type": "execute_result"
    }
   ],
   "source": [
    "top =  FeatureSelector(subset_num, target, f_classif, 2)\n",
    "top"
   ]
  },
  {
   "cell_type": "markdown",
   "metadata": {},
   "source": [
    "##### Feature Selection: Mutual information (MI)"
   ]
  },
  {
   "cell_type": "code",
   "execution_count": 94,
   "metadata": {},
   "outputs": [
    {
     "data": {
      "text/plain": [
       "(460, 12)"
      ]
     },
     "execution_count": 94,
     "metadata": {},
     "output_type": "execute_result"
    }
   ],
   "source": [
    "df_num.shape"
   ]
  },
  {
   "cell_type": "code",
   "execution_count": 95,
   "metadata": {},
   "outputs": [
    {
     "data": {
      "text/plain": [
       "Index(['Gender', 'Married', 'Dependents', 'Education', 'Self_Employed',\n",
       "       'Credit_History_Requirements', 'Property_Area', 'Co-Applicant',\n",
       "       'Loan_Term_Months', 'App_Income_log1p', 'Co-App_Income_log1p',\n",
       "       'Loan_Amount_log1p'],\n",
       "      dtype='object')"
      ]
     },
     "execution_count": 95,
     "metadata": {},
     "output_type": "execute_result"
    }
   ],
   "source": [
    "df_num.columns"
   ]
  },
  {
   "cell_type": "code",
   "execution_count": 102,
   "metadata": {},
   "outputs": [
    {
     "data": {
      "text/html": [
       "<div>\n",
       "<style scoped>\n",
       "    .dataframe tbody tr th:only-of-type {\n",
       "        vertical-align: middle;\n",
       "    }\n",
       "\n",
       "    .dataframe tbody tr th {\n",
       "        vertical-align: top;\n",
       "    }\n",
       "\n",
       "    .dataframe thead th {\n",
       "        text-align: right;\n",
       "    }\n",
       "</style>\n",
       "<table border=\"1\" class=\"dataframe\">\n",
       "  <thead>\n",
       "    <tr style=\"text-align: right;\">\n",
       "      <th></th>\n",
       "      <th>Features</th>\n",
       "      <th>Score</th>\n",
       "    </tr>\n",
       "  </thead>\n",
       "  <tbody>\n",
       "    <tr>\n",
       "      <th>9</th>\n",
       "      <td>App_Income_log1p</td>\n",
       "      <td>0.528717</td>\n",
       "    </tr>\n",
       "    <tr>\n",
       "      <th>5</th>\n",
       "      <td>Credit_History_Requirements</td>\n",
       "      <td>0.117186</td>\n",
       "    </tr>\n",
       "    <tr>\n",
       "      <th>8</th>\n",
       "      <td>Loan_Term_Months</td>\n",
       "      <td>0.027475</td>\n",
       "    </tr>\n",
       "    <tr>\n",
       "      <th>10</th>\n",
       "      <td>Co-App_Income_log1p</td>\n",
       "      <td>0.018878</td>\n",
       "    </tr>\n",
       "    <tr>\n",
       "      <th>6</th>\n",
       "      <td>Property_Area</td>\n",
       "      <td>0.013334</td>\n",
       "    </tr>\n",
       "    <tr>\n",
       "      <th>3</th>\n",
       "      <td>Education</td>\n",
       "      <td>0.004710</td>\n",
       "    </tr>\n",
       "    <tr>\n",
       "      <th>7</th>\n",
       "      <td>Co-Applicant</td>\n",
       "      <td>0.004281</td>\n",
       "    </tr>\n",
       "  </tbody>\n",
       "</table>\n",
       "</div>"
      ],
      "text/plain": [
       "                       Features     Score\n",
       "9              App_Income_log1p  0.528717\n",
       "5   Credit_History_Requirements  0.117186\n",
       "8              Loan_Term_Months  0.027475\n",
       "10          Co-App_Income_log1p  0.018878\n",
       "6                 Property_Area  0.013334\n",
       "3                     Education  0.004710\n",
       "7                  Co-Applicant  0.004281"
      ]
     },
     "execution_count": 102,
     "metadata": {},
     "output_type": "execute_result"
    }
   ],
   "source": [
    "discrete_feat_idx = [1,2,3,4,5,6,7,8,9] # an array with indices of discrete features\n",
    "\n",
    "MI = partial(mutual_info_classif, discrete_features=discrete_feat_idx)\n",
    "top =  FeatureSelector(df_num, target, MI, 7)\n",
    "top"
   ]
  },
  {
   "cell_type": "markdown",
   "metadata": {},
   "source": [
    "##### Correlation Check"
   ]
  },
  {
   "cell_type": "code",
   "execution_count": 103,
   "metadata": {
    "scrolled": false
   },
   "outputs": [
    {
     "data": {
      "image/png": "[encoded data removed]",
      "text/plain": [
       "<Figure size 576x576 with 2 Axes>"
      ]
     },
     "metadata": {},
     "output_type": "display_data"
    }
   ],
   "source": [
    "#get correlations of each categorical features in dataset\n",
    "top_features = df_num[['App_Income_log1p','Credit_History_Requirements','Loan_Term_Months', 'Co-App_Income_log1p',\n",
    "                       'Property_Area','Education','Co-Applicant']]\n",
    "corrmat = top_features.corr()\n",
    "top = corrmat.index\n",
    "plt.figure(figsize=(8,8))\n",
    "\n",
    "                      #plot heat map\n",
    "g=sns.heatmap(top_features[top].corr(),annot=True,cmap=\"RdYlGn\")"
   ]
  },
  {
   "cell_type": "markdown",
   "metadata": {},
   "source": [
    "##### Feature Extraction: Principal Component Analysis"
   ]
  },
  {
   "cell_type": "code",
   "execution_count": 104,
   "metadata": {},
   "outputs": [
    {
     "data": {
      "text/plain": [
       "(460, 12)"
      ]
     },
     "execution_count": 104,
     "metadata": {},
     "output_type": "execute_result"
    }
   ],
   "source": [
    "features = StandardScaler().fit_transform(df_num)\n",
    "features.shape"
   ]
  },
  {
   "cell_type": "code",
   "execution_count": 105,
   "metadata": {
    "scrolled": true
   },
   "outputs": [
    {
     "data": {
      "image/png": "[encoded data removed]",
      "text/plain": [
       "<Figure size 360x360 with 1 Axes>"
      ]
     },
     "metadata": {},
     "output_type": "display_data"
    }
   ],
   "source": [
    "#set up the figure size\n",
    "plt.rcParams['figure.figsize'] = (5,5)\n",
    "\n",
    "pca = PCA().fit(features)\n",
    "plt.plot(np.cumsum(pca.explained_variance_ratio_))\n",
    "plt.xlabel('number of components')\n",
    "plt.ylabel('cumulative explained variance');"
   ]
  },
  {
   "cell_type": "code",
   "execution_count": 106,
   "metadata": {},
   "outputs": [],
   "source": [
    "# Create a PCA that will retain 99% of variance\n",
    "pca = PCA(n_components=9, whiten=True)"
   ]
  },
  {
   "cell_type": "code",
   "execution_count": 107,
   "metadata": {},
   "outputs": [],
   "source": [
    "# Training and transform our data\n",
    "pca.fit(features)\n",
    "features_pca = pca.transform(features)"
   ]
  },
  {
   "cell_type": "code",
   "execution_count": 108,
   "metadata": {},
   "outputs": [
    {
     "name": "stdout",
     "output_type": "stream",
     "text": [
      "Original number of features: 12\n",
      "Reduced number of features: 9\n"
     ]
    }
   ],
   "source": [
    "# Show results\n",
    "print(\"Original number of features:\", features.shape[1])\n",
    "print(\"Reduced number of features:\", features_pca.shape[1])"
   ]
  },
  {
   "cell_type": "markdown",
   "metadata": {},
   "source": [
    "#### 4. Part 2 Summary\n",
    "All Feature extraction or Selection methods has some limitations. Chi-Square works best when all features are categorical, and ANOVA works best when all features are numerical. I had mixture of both data types. For this reason, I attempted to convert continuous variables into category bins. Although, I had the option to do separate analysis for both data types, I do not believe separate analysis would give me any insights about patterns among all features. Mutual Information method works for both data types, but I have to identify which ones are discrete. I believe this method gave me better insights on features."
   ]
  },
  {
   "cell_type": "markdown",
   "metadata": {},
   "source": [
    "I have decided to use feature selection method using Mutual Information classifier along with correlation chart instead of using PCA because I have too many categorical variables. Since feature selection methods use target variable to choose features, I have added another step of splitting the data into train and validation set before performing any data transformation or dimensionality reduction so this way I am not leaking any information from my validation set to training set. Please refer to [Part 2 Analysis - Dimensionality Reduction](#Part_2_Analysis_-_Dimensionality_Reduction)."
   ]
  },
  {
   "cell_type": "markdown",
   "metadata": {},
   "source": [
    "I selected following Features based on Mutual Information and Correlation Chart:\n",
    "1. Applicant Income log transformed\n",
    "2. Credit History Requirements\n",
    "3. Loan_Term Months\n",
    "4. Property Area\n",
    "5. Education"
   ]
  },
  {
   "cell_type": "markdown",
   "metadata": {},
   "source": [
    "**References**\n",
    "1. For Feature Selection Methods [Machine Learning Mastery](https://machinelearningmastery.com/feature-selection-with-real-and-categorical-data/)\n",
    "2. For PCA Analysis [Dimensionality Reduction Techniques](https://towardsdatascience.com/5-must-know-dimensionality-reduction-techniques-via-prince-e6ffb27e55d1)"
   ]
  },
  {
   "cell_type": "markdown",
   "metadata": {},
   "source": [
    "<a id='Part_3_Analysis_-_Model_Evaluation'></a>\n",
    "### Part 3 Analysis - Model Evaluation"
   ]
  },
  {
   "cell_type": "markdown",
   "metadata": {},
   "source": [
    "#### 1. Model Evaluation"
   ]
  },
  {
   "cell_type": "code",
   "execution_count": 109,
   "metadata": {},
   "outputs": [],
   "source": [
    "feature_names = ['App_Income_log1p','Credit_History_Requirements', 'Loan_Term_Months','Property_Area','Education']\n",
    "\n",
    "# training set\n",
    "X_train = df_num[feature_names]\n",
    "Y_train = target\n",
    "\n",
    "# Validation set\n",
    "X_val = val_copy[feature_names]\n",
    "\n",
    "# converting target\n",
    "Y_val = Y_val.replace({'Y': 1, 'N':0})"
   ]
  },
  {
   "cell_type": "code",
   "execution_count": 110,
   "metadata": {},
   "outputs": [],
   "source": [
    "# creating Matrix\n",
    "\n",
    "# training matrix\n",
    "features_train = X_train.to_numpy()\n",
    "target_train = Y_train.to_numpy()\n",
    "\n",
    "#testing matrix\n",
    "features_test = X_val.to_numpy()\n",
    "target_test = Y_val.to_numpy()"
   ]
  },
  {
   "cell_type": "markdown",
   "metadata": {},
   "source": [
    "##### Baseline Classification Model"
   ]
  },
  {
   "cell_type": "code",
   "execution_count": 111,
   "metadata": {},
   "outputs": [],
   "source": [
    "from sklearn.dummy import DummyClassifier"
   ]
  },
  {
   "cell_type": "code",
   "execution_count": 112,
   "metadata": {},
   "outputs": [
    {
     "name": "stdout",
     "output_type": "stream",
     "text": [
      "Accuracy score for random guessing is 0.57\n"
     ]
    }
   ],
   "source": [
    "# Create dummy classifier\n",
    "dummy = DummyClassifier(strategy='stratified', random_state=1)\n",
    "\n",
    "# \"Train\" model\n",
    "dummy.fit(features_train, target_train)\n",
    "\n",
    "# Get accuracy score\n",
    "DummyScore = dummy.score(features_test, target_test)\n",
    "print(\"Accuracy score for random guessing is {:.2f}\".format(DummyScore))"
   ]
  },
  {
   "cell_type": "markdown",
   "metadata": {},
   "source": [
    "##### 1. Classification Model: Decision Tree Classification Model"
   ]
  },
  {
   "cell_type": "code",
   "execution_count": 113,
   "metadata": {},
   "outputs": [],
   "source": [
    "from sklearn.tree import DecisionTreeClassifier\n",
    "from sklearn.linear_model import LogisticRegression\n",
    "from sklearn.model_selection import cross_val_score\n",
    "\n",
    "from yellowbrick.classifier import ConfusionMatrix\n",
    "from yellowbrick.classifier import ClassificationReport\n",
    "from yellowbrick.classifier import ROCAUC\n",
    "from sklearn.metrics import roc_curve, roc_auc_score"
   ]
  },
  {
   "cell_type": "code",
   "execution_count": 114,
   "metadata": {},
   "outputs": [],
   "source": [
    "# Create Classifier\n",
    "classifier1 = DecisionTreeClassifier(max_depth = 3, random_state=0)\n",
    "\n",
    "# Train model\n",
    "model_1 = classifier1.fit(features_train, target_train)\n",
    "\n",
    "# Get accuracy score\n",
    "score1 = classifier1.score(features_test, target_test)"
   ]
  },
  {
   "cell_type": "code",
   "execution_count": 117,
   "metadata": {},
   "outputs": [
    {
     "data": {
      "image/png": "[encoded data removed]",
      "text/plain": [
       "<Figure size 504x504 with 2 Axes>"
      ]
     },
     "metadata": {},
     "output_type": "display_data"
    },
    {
     "data": {
      "image/png": "[encoded data removed]",
      "text/plain": [
       "<Figure size 504x504 with 1 Axes>"
      ]
     },
     "metadata": {},
     "output_type": "display_data"
    }
   ],
   "source": [
    "# visualizing the Score\n",
    "plt.rcParams['figure.figsize'] = (7,7)\n",
    "plt.rcParams['font.size'] = 20\n",
    "\n",
    "# Instantiate the visualizer\n",
    "visualizer = ClassificationReport(classifier1)\n",
    "\n",
    "visualizer.fit(features_train, target_train)  # Fit the training data to the visualizer\n",
    "visualizer.score(features_test, target_test) # Evaluate the model on the test data\n",
    "g = visualizer.poof()\n",
    "\n",
    "# ROC and AUC\n",
    "#Instantiate the visualizer\n",
    "visualizer = ROCAUC(classifier1)\n",
    " \n",
    "visualizer.fit(features_train, target_train)  # Fit the training data to the visualizer\n",
    "visualizer.score(features_test, target_test)  # Evaluate the model on the test data\n",
    "g = visualizer.poof()"
   ]
  },
  {
   "cell_type": "code",
   "execution_count": 118,
   "metadata": {},
   "outputs": [
    {
     "name": "stdout",
     "output_type": "stream",
     "text": [
      "Cross validation Accuracy score: 0.8174193548387096\n",
      "Cross validation Precision score: 0.8236541236541235\n",
      "Cross validation Recall score: 0.9428571428571428\n",
      "Cross validation F1 score: 0.8771618246506915\n",
      "Decision Tree Score for test set 0.8571428571428571\n"
     ]
    }
   ],
   "source": [
    "cv_accuracy_score = cross_val_score(model_1, features_test, target_test, cv=5, scoring=\"accuracy\").mean()\n",
    "print(\"Cross validation Accuracy score: {}\".format(cv_accuracy_score))\n",
    "\n",
    "cv_precision_score = cross_val_score(model_1, features_test, target_test, cv=5, scoring=\"precision\").mean()\n",
    "print(\"Cross validation Precision score: {}\".format(cv_precision_score))\n",
    "\n",
    "cv_recall_score = cross_val_score(model_1, features_test, target_test, cv=5, scoring=\"recall\").mean()\n",
    "print(\"Cross validation Recall score: {}\".format(cv_recall_score))\n",
    "\n",
    "cv_f1_score = cross_val_score(model_1, features_test, target_test, cv=5, scoring=\"f1\").mean()\n",
    "print(\"Cross validation F1 score: {}\".format(cv_f1_score))\n",
    "\n",
    "print(\"Decision Tree Score for test set {}\".format(score1))"
   ]
  },
  {
   "cell_type": "code",
   "execution_count": 119,
   "metadata": {},
   "outputs": [],
   "source": [
    "from IPython.display import Image\n",
    "from sklearn import tree\n",
    "import pydotplus"
   ]
  },
  {
   "cell_type": "code",
   "execution_count": 120,
   "metadata": {},
   "outputs": [],
   "source": [
    "columns = X_train.columns.tolist()"
   ]
  },
  {
   "cell_type": "code",
   "execution_count": 121,
   "metadata": {},
   "outputs": [
    {
     "data": {
      "image/png": "[encoded data removed]",
      "text/plain": [
       "<IPython.core.display.Image object>"
      ]
     },
     "execution_count": 121,
     "metadata": {},
     "output_type": "execute_result"
    }
   ],
   "source": [
    "# Create DOT data\n",
    "dot_data = tree.export_graphviz(classifier1,\n",
    "                                out_file=None,\n",
    "                                feature_names=columns)\n",
    "\n",
    "# Draw graph\n",
    "graph = pydotplus.graph_from_dot_data(dot_data)\n",
    "Image(graph.create_png())"
   ]
  },
  {
   "cell_type": "markdown",
   "metadata": {},
   "source": [
    "##### 2. Classification Model: Random Forest Classification Model"
   ]
  },
  {
   "cell_type": "code",
   "execution_count": 122,
   "metadata": {},
   "outputs": [],
   "source": [
    "from sklearn.ensemble import RandomForestClassifier"
   ]
  },
  {
   "cell_type": "code",
   "execution_count": 123,
   "metadata": {},
   "outputs": [
    {
     "data": {
      "image/png": "[encoded data removed]",
      "text/plain": [
       "<Figure size 504x504 with 2 Axes>"
      ]
     },
     "metadata": {},
     "output_type": "display_data"
    },
    {
     "data": {
      "image/png": "[encoded data removed]",
      "text/plain": [
       "<Figure size 504x504 with 1 Axes>"
      ]
     },
     "metadata": {},
     "output_type": "display_data"
    }
   ],
   "source": [
    "# Create Classifier\n",
    "classifier2 = RandomForestClassifier(max_depth = 3, random_state=0)\n",
    "\n",
    "# Train model\n",
    "model_2 = classifier2.fit(features_train, target_train)\n",
    "\n",
    "# Get accuracy score\n",
    "score2 = classifier2.score(features_test, target_test)\n",
    "\n",
    "# visualizing the Score\n",
    "plt.rcParams['figure.figsize'] = (7,7)\n",
    "plt.rcParams['font.size'] = 20\n",
    "\n",
    "# Instantiate the visualizer\n",
    "visualizer = ClassificationReport(classifier2)\n",
    "\n",
    "visualizer.fit(features_train, target_train)  # Fit the training data to the visualizer\n",
    "visualizer.score(features_test, target_test) # Evaluate the model on the test data\n",
    "g = visualizer.poof()\n",
    "\n",
    "# ROC and AUC\n",
    "#Instantiate the visualizer\n",
    "visualizer = ROCAUC(classifier2)\n",
    " \n",
    "visualizer.fit(features_train, target_train)  # Fit the training data to the visualizer\n",
    "visualizer.score(features_test, target_test)  # Evaluate the model on the test data\n",
    "g = visualizer.poof()"
   ]
  },
  {
   "cell_type": "code",
   "execution_count": 127,
   "metadata": {},
   "outputs": [
    {
     "name": "stdout",
     "output_type": "stream",
     "text": [
      "Cross validation Accuracy score: 0.8503225806451613\n",
      "Cross validation Precision score: 0.8368009768009766\n",
      "Cross validation Recall score: 0.980952380952381\n",
      "Cross validation F1 score: 0.9014459715431039\n",
      "Random Forest Score for test set 0.8571428571428571\n"
     ]
    }
   ],
   "source": [
    "cv_accuracy_score = cross_val_score(model_2, features_test, target_test, cv=5, scoring=\"accuracy\").mean()\n",
    "print(\"Cross validation Accuracy score: {}\".format(cv_accuracy_score))\n",
    "\n",
    "cv_precision_score = cross_val_score(model_2, features_test, target_test, cv=5, scoring=\"precision\").mean()\n",
    "print(\"Cross validation Precision score: {}\".format(cv_precision_score))\n",
    "\n",
    "cv_recall_score = cross_val_score(model_2, features_test, target_test, cv=5, scoring=\"recall\").mean()\n",
    "print(\"Cross validation Recall score: {}\".format(cv_recall_score))\n",
    "\n",
    "cv_f1_score = cross_val_score(model_2, features_test, target_test, cv=5, scoring=\"f1\").mean()\n",
    "print(\"Cross validation F1 score: {}\".format(cv_f1_score))\n",
    "\n",
    "print(\"Random Forest Score for test set {}\".format(score2))"
   ]
  },
  {
   "cell_type": "markdown",
   "metadata": {},
   "source": [
    "##### 3. Classification Model: Logistic Regression Classification Model"
   ]
  },
  {
   "cell_type": "code",
   "execution_count": 124,
   "metadata": {},
   "outputs": [],
   "source": [
    "from sklearn.preprocessing import StandardScaler"
   ]
  },
  {
   "cell_type": "code",
   "execution_count": 125,
   "metadata": {},
   "outputs": [
    {
     "data": {
      "image/png": "[encoded data removed]",
      "text/plain": [
       "<Figure size 504x504 with 2 Axes>"
      ]
     },
     "metadata": {},
     "output_type": "display_data"
    },
    {
     "data": {
      "image/png": "[encoded data removed]",
      "text/plain": [
       "<Figure size 504x504 with 1 Axes>"
      ]
     },
     "metadata": {},
     "output_type": "display_data"
    }
   ],
   "source": [
    "# Create Classifier\n",
    "classifier3 = LogisticRegression(random_state=0)\n",
    "\n",
    "# standardized features \n",
    "scaler = StandardScaler()\n",
    "features_train = scaler.fit_transform(features_train)\n",
    "features_test = scaler.fit_transform(features_test)\n",
    "\n",
    "# Train model\n",
    "model_3 = classifier3.fit(features_train, target_train)\n",
    "\n",
    "# Get accuracy score\n",
    "score3 = classifier3.score(features_test, target_test)\n",
    "\n",
    "# visualizing the Score\n",
    "plt.rcParams['figure.figsize'] = (7,7)\n",
    "plt.rcParams['font.size'] = 20\n",
    "\n",
    "# Instantiate the visualizer\n",
    "visualizer = ClassificationReport(classifier3, classes=['Not Approved','Approved'])\n",
    "\n",
    "visualizer.fit(features_train, target_train)  # Fit the training data to the visualizer\n",
    "visualizer.score(features_test, target_test) # Evaluate the model on the test data\n",
    "g = visualizer.poof()\n",
    "\n",
    "# ROC and AUC\n",
    "#Instantiate the visualizer\n",
    "visualizer = ROCAUC(classifier3)\n",
    " \n",
    "visualizer.fit(features_train, target_train)  # Fit the training data to the visualizer\n",
    "visualizer.score(features_test, target_test)  # Evaluate the model on the test data\n",
    "g = visualizer.poof()"
   ]
  },
  {
   "cell_type": "code",
   "execution_count": 128,
   "metadata": {},
   "outputs": [
    {
     "name": "stdout",
     "output_type": "stream",
     "text": [
      "Cross validation Accuracy score: 0.856989247311828\n",
      "Cross validation Precision score: 0.8383394383394382\n",
      "Cross validation Recall score: 0.9904761904761905\n",
      "Cross validation F1 score: 0.9062563323201621\n",
      "Logistic Regression Score for test set 0.8571428571428571\n"
     ]
    }
   ],
   "source": [
    "cv_accuracy_score = cross_val_score(model_3, features_test, target_test, cv=5, scoring=\"accuracy\").mean()\n",
    "print(\"Cross validation Accuracy score: {}\".format(cv_accuracy_score))\n",
    "\n",
    "cv_precision_score = cross_val_score(model_3, features_test, target_test, cv=5, scoring=\"precision\").mean()\n",
    "print(\"Cross validation Precision score: {}\".format(cv_precision_score))\n",
    "\n",
    "cv_recall_score = cross_val_score(model_3, features_test, target_test, cv=5, scoring=\"recall\").mean()\n",
    "print(\"Cross validation Recall score: {}\".format(cv_recall_score))\n",
    "\n",
    "cv_f1_score = cross_val_score(model_3, features_test, target_test, cv=5, scoring=\"f1\").mean()\n",
    "print(\"Cross validation F1 score: {}\".format(cv_f1_score))\n",
    "\n",
    "print(\"Logistic Regression Score for test set {}\".format(score3))"
   ]
  },
  {
   "cell_type": "markdown",
   "metadata": {},
   "source": [
    "#### 2. Part 3 Summary\n",
    "\n"
   ]
  },
  {
   "cell_type": "markdown",
   "metadata": {},
   "source": [
    "##### Key Steps before Model Evaluation\n",
    "To perform Model evaluation and selection carefully, I re-did part 1 & part 2. I moved my data cleaning step to part 2 and instead of simply dropping the variables to handle missing data, I added a step of imputing missing variables using KNNImputer(). This helped me keeping my data intact. I also split the data into training and validation set before I performed any data transformations and Dimensionality reduction. In part 1 I added another step of analyzing the summary statistics of the data. Refer[Key Observations](#Key_Observations)"
   ]
  },
  {
   "cell_type": "markdown",
   "metadata": {},
   "source": [
    "##### Key Insights\n",
    "Decision Tree\n",
    "1. Cross validation Accuracy score: 0.817\n",
    "2. Cross validation Precision score: 0.824\n",
    "3. Cross validation Recall score: 0.943\n",
    "4. Cross validation F1 score: 0.877\n",
    "5. Decision Tree Score for test set 0.8571428571428571  \n",
    "  \n",
    "Random Forest\n",
    "1. Cross validation Accuracy score: 0.850\n",
    "2. Cross validation Precision score: 0.837\n",
    "3. Cross validation Recall score: 0.981\n",
    "4. Cross validation F1 score: 0.901\n",
    "5. Random Forest Score for test set 0.8571428571428571  \n",
    "\n",
    "Logistic Regression\n",
    "1. Cross validation Accuracy score: 0.857\n",
    "2. Cross validation Precision score: 0.838\n",
    "3. Cross validation Recall score: 0.990\n",
    "4. Cross validation F1 score: 0.906\n",
    "5. Logistic Regression Score for test set 0.8571428571428571\n",
    "\n",
    "Accuracy score against test set for both models are exact same, however, when cross validated, logistic regression scores are slightly better than decision tree classifier. The f1 score is higher by 1.26%. Although, Logistic regression looks like a better choice for this data, but I have not tuned any hyperparameters for either of the algorithms.\n",
    "\n",
    "#### Final Steps\n",
    "\n",
    "I will further try to reduce variance through by regularization and handling imbalanced classes for logistic regression and tuning depth and min_sample leafs for Decision tree classifier to choose between the two models. "
   ]
  },
  {
   "cell_type": "markdown",
   "metadata": {},
   "source": [
    "### Part 3 Modification - Model Selection, Fine tuning hyperparameters"
   ]
  },
  {
   "cell_type": "markdown",
   "metadata": {},
   "source": [
    "#### 1. Model Selection"
   ]
  },
  {
   "cell_type": "markdown",
   "metadata": {},
   "source": [
    "I selected the best model by creating a dictionary of candidate learning algorithms and their hyperparameters."
   ]
  },
  {
   "cell_type": "code",
   "execution_count": 137,
   "metadata": {},
   "outputs": [],
   "source": [
    "from sklearn.model_selection import GridSearchCV\n",
    "from sklearn.pipeline import Pipeline"
   ]
  },
  {
   "cell_type": "code",
   "execution_count": 138,
   "metadata": {},
   "outputs": [],
   "source": [
    "# Create a pipeline\n",
    "pipe = Pipeline([(\"classifier\", DecisionTreeClassifier())])\n",
    "\n",
    "# Create dictionary with candidate learning algorithms and their hyperparameters\n",
    "search_space = [{\"classifier\": [LogisticRegression()],\n",
    "                 \"classifier__penalty\": ['l1', 'l2'],\n",
    "                 \"classifier__C\": np.logspace(0, 4, 10)},\n",
    "                {\"classifier\": [DecisionTreeClassifier()],\n",
    "                 \"classifier__max_depth\": [1,2, 3,4,5,6,7,8,9,10],\n",
    "                 \"classifier__min_samples_leaf\": [1,2, 3,4,5,6,7,8,9,10, 11,12,13,14,15,16,17,18,19,20]},\n",
    "                {\"classifier\": [RandomForestClassifier()],\n",
    "                 \"classifier__max_depth\": [1,2, 3,4,5,6,7,8,9,10],\n",
    "                 \"classifier__min_samples_leaf\": [1,2, 3,4,5,6,7,8,9,10, 11,12,13,14,15,16,17,18,19,20]}]\n",
    "\n"
   ]
  },
  {
   "cell_type": "code",
   "execution_count": 140,
   "metadata": {},
   "outputs": [],
   "source": [
    "# Create grid search\n",
    "gridsearch = GridSearchCV(pipe, search_space,cv=5, verbose=0)\n",
    "\n",
    "# Fit grid search\n",
    "best_model = gridsearch.fit(features_train, target_train)"
   ]
  },
  {
   "cell_type": "code",
   "execution_count": 143,
   "metadata": {},
   "outputs": [
    {
     "name": "stdout",
     "output_type": "stream",
     "text": [
      "Cross validation Accuracy score: 0.856989247311828\n",
      "Cross validation Precision score: 0.8480012740882306\n",
      "Cross validation Recall score: 0.9904761904761905\n",
      "Cross validation F1 score: 0.9062563323201621\n"
     ]
    }
   ],
   "source": [
    "cv_accuracy_score = cross_val_score(best_model, features_test, target_test, cv=5, scoring=\"accuracy\").mean()\n",
    "print(\"Cross validation Accuracy score: {}\".format(cv_accuracy_score))\n",
    "\n",
    "cv_precision_score = cross_val_score(best_model, features_test, target_test, cv=5, scoring=\"precision\").mean()\n",
    "print(\"Cross validation Precision score: {}\".format(cv_precision_score))\n",
    "\n",
    "cv_recall_score = cross_val_score(best_model, features_test, target_test, cv=5, scoring=\"recall\").mean()\n",
    "print(\"Cross validation Recall score: {}\".format(cv_recall_score))\n",
    "\n",
    "cv_f1_score = cross_val_score(best_model, features_test, target_test, cv=5, scoring=\"f1\").mean()\n",
    "print(\"Cross validation F1 score: {}\".format(cv_f1_score))\n"
   ]
  },
  {
   "cell_type": "code",
   "execution_count": 144,
   "metadata": {},
   "outputs": [
    {
     "data": {
      "text/plain": [
       "0.8571428571428571"
      ]
     },
     "execution_count": 144,
     "metadata": {},
     "output_type": "execute_result"
    }
   ],
   "source": [
    "# Get accuracy score\n",
    "score3 = gridsearch.score(features_test, target_test)\n",
    "score3"
   ]
  },
  {
   "cell_type": "code",
   "execution_count": 142,
   "metadata": {},
   "outputs": [
    {
     "data": {
      "text/plain": [
       "{'memory': None,\n",
       " 'steps': [('classifier', LogisticRegression())],\n",
       " 'verbose': False,\n",
       " 'classifier': LogisticRegression(),\n",
       " 'classifier__C': 1.0,\n",
       " 'classifier__class_weight': None,\n",
       " 'classifier__dual': False,\n",
       " 'classifier__fit_intercept': True,\n",
       " 'classifier__intercept_scaling': 1,\n",
       " 'classifier__l1_ratio': None,\n",
       " 'classifier__max_iter': 100,\n",
       " 'classifier__multi_class': 'auto',\n",
       " 'classifier__n_jobs': None,\n",
       " 'classifier__penalty': 'l2',\n",
       " 'classifier__random_state': None,\n",
       " 'classifier__solver': 'lbfgs',\n",
       " 'classifier__tol': 0.0001,\n",
       " 'classifier__verbose': 0,\n",
       " 'classifier__warm_start': False}"
      ]
     },
     "execution_count": 142,
     "metadata": {},
     "output_type": "execute_result"
    }
   ],
   "source": [
    "best_model.best_estimator_.get_params()"
   ]
  },
  {
   "cell_type": "markdown",
   "metadata": {},
   "source": [
    "### Conclusion\n",
    "\n",
    "All three models had not much difference in the accuracy score. Somehow, they had the same accuracy score. However, when dig deep and cross-validated. Logistic regression seems to outperform all the other model with accuracy score, precision score, recall score and f1 score slightly higher than the other two models. The accuracy score of logistic regression model is .857, meaning based on applicant’s income log transformed, credit history, loan term, property area and education, this model predicted 85.7% of the loan approval correctly. In real world though, this model will be hard to generalized because of imbalanced class. In my sample data as well, I had lot of imbalanced class such as 81% were male applicants. Although, I did split the data and stratified it to minimize the problem, in real world that will not be the case."
   ]
  }
 ],
 "metadata": {
  "kernelspec": {
   "display_name": "Python 3",
   "language": "python",
   "name": "python3"
  },
  "language_info": {
   "codemirror_mode": {
    "name": "ipython",
    "version": 3
   },
   "file_extension": ".py",
   "mimetype": "text/x-python",
   "name": "python",
   "nbconvert_exporter": "python",
   "pygments_lexer": "ipython3",
   "version": "3.7.9"
  }
 },
 "nbformat": 4,
 "nbformat_minor": 4
}
